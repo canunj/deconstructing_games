{
  "cells": [
    {
      "cell_type": "code",
      "execution_count": null,
      "metadata": {
        "colab": {
          "base_uri": "https://localhost:8080/"
        },
        "id": "Gmd-RXpJPqqi",
        "outputId": "a1e17a8e-9dcc-45c5-b2f6-779c139d973f"
      },
      "outputs": [
        {
          "output_type": "stream",
          "name": "stdout",
          "text": [
            "Looking in indexes: https://pypi.org/simple, https://us-python.pkg.dev/colab-wheels/public/simple/\n",
            "Collecting fastparquet\n",
            "  Downloading fastparquet-0.8.1-cp37-cp37m-manylinux_2_17_x86_64.manylinux2014_x86_64.whl (1.5 MB)\n",
            "\u001b[K     |████████████████████████████████| 1.5 MB 13.7 MB/s \n",
            "\u001b[?25hRequirement already satisfied: numpy>=1.18 in /usr/local/lib/python3.7/dist-packages (from fastparquet) (1.21.6)\n",
            "Requirement already satisfied: pandas>=1.1.0 in /usr/local/lib/python3.7/dist-packages (from fastparquet) (1.3.5)\n",
            "Requirement already satisfied: fsspec in /usr/local/lib/python3.7/dist-packages (from fastparquet) (2022.8.2)\n",
            "Collecting cramjam>=2.3.0\n",
            "  Downloading cramjam-2.5.0-cp37-cp37m-manylinux_2_5_x86_64.manylinux1_x86_64.whl (1.6 MB)\n",
            "\u001b[K     |████████████████████████████████| 1.6 MB 55.9 MB/s \n",
            "\u001b[?25hRequirement already satisfied: pytz>=2017.3 in /usr/local/lib/python3.7/dist-packages (from pandas>=1.1.0->fastparquet) (2022.4)\n",
            "Requirement already satisfied: python-dateutil>=2.7.3 in /usr/local/lib/python3.7/dist-packages (from pandas>=1.1.0->fastparquet) (2.8.2)\n",
            "Requirement already satisfied: six>=1.5 in /usr/local/lib/python3.7/dist-packages (from python-dateutil>=2.7.3->pandas>=1.1.0->fastparquet) (1.15.0)\n",
            "Installing collected packages: cramjam, fastparquet\n",
            "Successfully installed cramjam-2.5.0 fastparquet-0.8.1\n"
          ]
        },
        {
          "output_type": "stream",
          "name": "stderr",
          "text": [
            "[nltk_data] Downloading package stopwords to /root/nltk_data...\n",
            "[nltk_data]   Unzipping corpora/stopwords.zip.\n",
            "[nltk_data] Downloading package wordnet to /root/nltk_data...\n",
            "[nltk_data] Downloading package omw-1.4 to /root/nltk_data...\n",
            "[nltk_data] Downloading package punkt to /root/nltk_data...\n",
            "[nltk_data]   Unzipping tokenizers/punkt.zip.\n"
          ]
        }
      ],
      "source": [
        "import pandas as pd\n",
        "import numpy as np\n",
        "RANDOM_STATE=2022\n",
        "from sklearn.model_selection import RandomizedSearchCV\n",
        "from sklearn.preprocessing import MultiLabelBinarizer\n",
        "from sklearn.metrics import accuracy_score, recall_score, precision_score, classification_report, f1_score, hamming_loss\n",
        "from sklearn import preprocessing\n",
        "from sklearn.impute import SimpleImputer\n",
        "from sklearn.metrics import mean_squared_error, r2_score\n",
        "from sklearn.preprocessing import StandardScaler\n",
        "import matplotlib.pyplot as plt\n",
        "import seaborn as sns\n",
        "from sklearn import preprocessing\n",
        "from sklearn.neighbors import KNeighborsRegressor\n",
        "from sklearn.ensemble import GradientBoostingRegressor\n",
        "from sklearn.model_selection import train_test_split\n",
        "from sklearn.preprocessing import StandardScaler\n",
        "from sklearn.model_selection import cross_val_score\n",
        "from sklearn.linear_model import LinearRegression , Lasso, Ridge\n",
        "from sklearn.preprocessing import PolynomialFeatures\n",
        "from gensim.parsing import preprocess_string\n",
        "from sklearn.ensemble import RandomForestRegressor\n",
        "from sklearn.dummy import DummyRegressor\n",
        "from sklearn.inspection import permutation_importance\n",
        "from sklearn.model_selection import GridSearchCV\n",
        "from sklearn.experimental import enable_iterative_imputer\n",
        "from sklearn.impute import IterativeImputer\n",
        "from collections import Counter, defaultdict\n",
        "from sklearn.linear_model import LogisticRegression\n",
        "from sklearn.svm import LinearSVC\n",
        "from sklearn.naive_bayes import MultinomialNB\n",
        "from sklearn.ensemble import GradientBoostingClassifier\n",
        "\n",
        "from sklearn.multiclass import OneVsRestClassifier\n",
        "\n",
        "!pip install fastparquet\n",
        "import nltk\n",
        "from nltk.corpus import stopwords\n",
        "from sklearn.feature_extraction.text import TfidfVectorizer\n",
        "nltk.download('stopwords')\n",
        "nltk.download('wordnet')\n",
        "nltk.download('omw-1.4')\n",
        "import string\n",
        "from nltk.stem.wordnet import WordNetLemmatizer\n",
        "import spacy, en_core_web_sm\n",
        "nlp=en_core_web_sm.load()\n",
        "nltk.download('punkt')\n",
        "from datetime import datetime\n",
        "import warnings\n",
        "warnings.filterwarnings(\"ignore\")\n",
        "import re"
      ]
    },
    {
      "cell_type": "code",
      "execution_count": null,
      "metadata": {
        "id": "4ZIWjvLsqQDQ"
      },
      "outputs": [],
      "source": [
        "#read the file\n",
        "game_df = pd.read_parquet('https://github.com/canunj/deconstructing_games/blob/main/ranked_df.parquet.gzip?raw=true', engine='fastparquet')\n"
      ]
    },
    {
      "cell_type": "code",
      "execution_count": null,
      "metadata": {
        "colab": {
          "base_uri": "https://localhost:8080/"
        },
        "id": "7yfsMLCgnTNq",
        "outputId": "e558c9da-3d97-4b06-e8d5-3c9fb85ba92b"
      },
      "outputs": [
        {
          "output_type": "execute_result",
          "data": {
            "text/plain": [
              "(17289, 33244)"
            ]
          },
          "metadata": {},
          "execution_count": 22
        }
      ],
      "source": [
        "#filter the games from the year 2000 onwards\n",
        "game_df = game_df[game_df.year>=2000]\n",
        "game_df.shape"
      ]
    },
    {
      "cell_type": "code",
      "execution_count": null,
      "metadata": {
        "id": "VoMnrIByPsKs"
      },
      "outputs": [],
      "source": [
        "def feature_train(source,feats, targ=None, drop=None,scale=False):\n",
        "  source = source[source['year'] >= 2000]\n",
        "  one_hot = list(source.columns[33:])\n",
        "  one_hot.append('cooperative')\n",
        "  source[one_hot]=source[one_hot].fillna(0)\n",
        "\n",
        "  feature_columns = ['num_votes','year','complexity','max_players','max_time','min_age','min_players', 'min_time', 'bayes_rating','cooperative','name','description','category','bgg_id','rank']\n",
        "  \n",
        "  func_cols = ['year','complexity','max_players','max_time','min_age','min_players', 'min_time','bayes_rating','num_votes']\n",
        "\n",
        "  if drop:\n",
        "    source = source.drop(columns=drop,axis=1)\n",
        "    feature_columns = [x for x in feature_columns if x not in drop]\n",
        "    func_cols = [x for x in func_cols if x not in drop]\n",
        "  for feat in feats:\n",
        "    ls = [col for col in source[one_hot] if col.startswith(feat)]\n",
        "    feature_columns.extend(ls)\n",
        "\n",
        "  \n",
        "  features_df = source[feature_columns]\n",
        "  \n",
        "  def impute_func(df, dftype='x'):\n",
        "    if dftype == 'x':\n",
        "      for col in func_cols:\n",
        "        if col in df.columns:\n",
        "          med_imp=SimpleImputer(missing_values=np.nan,strategy='median')\n",
        "          df[col]=med_imp.fit_transform(df[col].values.reshape(-1,1))[:,0]\n",
        "        else:\n",
        "          pass\n",
        "      return df\n",
        "    elif dftype == 'y':\n",
        "      med_imp=SimpleImputer(missing_values=np.nan,strategy='median')\n",
        "      df=med_imp.fit_transform(df.values.reshape(-1,1))[:,0]\n",
        "      return df\n",
        "\n",
        "  def scaler_func(df):\n",
        "    scaler = preprocessing.MinMaxScaler()\n",
        "    cols = [x for x in func_cols if x in df.columns]\n",
        "    scaler.fit(df[cols])\n",
        "    d_t = scaler.transform(df[cols]).T\n",
        "    for idx, col in enumerate(cols):\n",
        "      df[col] = d_t[idx]\n",
        "    return df\n",
        "\n",
        "  if targ:\n",
        "    X = features_df.drop(columns=[targ], axis=1)\n",
        "    y = features_df[targ]\n",
        "\n",
        "    X_train, X_test, y_train, y_test = train_test_split(X, y, random_state=RANDOM_STATE)\n",
        "    \n",
        "    X_train = impute_func(X_train)\n",
        "    X_test = impute_func(X_test)\n",
        "    y_train = impute_func(y_train,dftype='y')\n",
        "    y_test = impute_func(y_test,dftype='y')\n",
        "\n",
        "    if scale==True:\n",
        "      X_train = scaler_func(X_train)\n",
        "      X_test = scaler_func(X_test)\n",
        "\n",
        "    return X_train, X_test, y_train, y_test\n",
        "  else:\n",
        "    X_train, X_val = train_test_split(features_df, test_size=0.2, random_state=RANDOM_STATE)\n",
        "    \n",
        "    X_train = impute_func(X_train)\n",
        "    X_val = impute_func(X_val)\n",
        "    \n",
        "    return X_train, X_val"
      ]
    },
    {
      "cell_type": "markdown",
      "metadata": {
        "id": "_pAKdA_JwqrS"
      },
      "source": [
        "# Regression"
      ]
    },
    {
      "cell_type": "code",
      "execution_count": null,
      "metadata": {
        "id": "RNf096wwPxDz"
      },
      "outputs": [],
      "source": [
        "# #Plotting The graph of Bayes rating vs. No.of votes\n",
        "# fig = plt.figure(figsize = (10, 5))\n",
        "# plt.scatter(game_df.bayes_rating, game_df.num_votes )\n",
        "\n",
        "# plt.xlabel(\"Bayes Rating\")\n",
        "# plt.ylabel(\"No. of votes\")\n",
        "# plt.show()\n"
      ]
    },
    {
      "cell_type": "code",
      "execution_count": null,
      "metadata": {
        "id": "QaNGgQnPP5kf"
      },
      "outputs": [],
      "source": [
        "# #Plotting The graph of Average rating vs. No.of votes\n",
        "# fig = plt.figure(figsize = (10, 5))\n",
        "# plt.scatter(game_df.avg_rating, game_df.num_votes )\n",
        "# plt.xlabel(\"Average Rating\")\n",
        "# plt.ylabel(\"No. of votes\")"
      ]
    },
    {
      "cell_type": "code",
      "execution_count": null,
      "metadata": {
        "id": "iitZ6VzfJwNT"
      },
      "outputs": [],
      "source": [
        "# #Plotting The graph of complexity vs. avg rating\n",
        "# fig = plt.figure(figsize = (10, 5))\n",
        "# plt.scatter(game_df.complexity, game_df.avg_rating )\n",
        "# plt.xlabel(\"complexity\")\n",
        "# plt.ylabel(\"Avg Rating\")"
      ]
    },
    {
      "cell_type": "code",
      "execution_count": null,
      "metadata": {
        "id": "Br8SSelpTFju"
      },
      "outputs": [],
      "source": [
        "# Correlation matrix to observe the core game features\n",
        "core_features_df = game_df[game_df.columns[:33]]\n"
      ]
    },
    {
      "cell_type": "code",
      "execution_count": null,
      "metadata": {
        "colab": {
          "base_uri": "https://localhost:8080/"
        },
        "id": "Njuju8fjUEFW",
        "outputId": "d884b59e-74f1-4bfc-8c7a-d9770c6488f2"
      },
      "outputs": [
        {
          "data": {
            "image/png": "[encoded data removed]",
            "text/plain": [
              "<Figure size 864x504 with 2 Axes>"
            ]
          },
          "metadata": {},
          "output_type": "display_data"
        }
      ],
      "source": [
        "cmatrix = core_features_df.corr()\n",
        "fig= plt.figure(figsize= (12, 7))\n",
        "sns.heatmap(cmatrix)\n",
        "plt.show()"
      ]
    },
    {
      "cell_type": "code",
      "execution_count": null,
      "metadata": {
        "id": "dl5xpPO7oDS5"
      },
      "outputs": [],
      "source": [
        "#checking for NANs\n",
        "#core_features_df.isna().sum()"
      ]
    },
    {
      "cell_type": "code",
      "execution_count": null,
      "metadata": {
        "id": "9VZfC-5ZtIz9"
      },
      "outputs": [],
      "source": [
        "one_hot = list(game_df.columns[33:])\n",
        "one_hot.append('cooperative')\n",
        "game_df[one_hot]=game_df[one_hot].fillna(0)\n",
        "\n",
        "#Trying to extract  mechanical, categories & game types and combining it with some of the core features \n",
        "mec_traits =[col for col in game_df[one_hot] if col.startswith('mechanic_')]\n",
        "game_type_traits =[col for col in game_df[one_hot] if col.startswith('game_type_')]\n",
        "#category_traits =[col for col in game_df[one_hot] if col.startswith('category_')]\n",
        "family = [col for col in game_df[one_hot] if col.startswith('family_')]\n",
        "publisher_names =[col for col in game_df[one_hot] if col.startswith('publisher_')]\n",
        "feature_columns = ['complexity','max_players','max_time','min_age','min_players', 'min_time', 'bayes_rating','cooperative']\n",
        "feature_columns.extend(mec_traits)\n",
        "feature_columns.extend(game_type_traits)\n",
        "#feature_columns.extend(category_traits)\n",
        "feature_columns.extend(publisher_names)\n",
        "feature_columns.extend(family)\n"
      ]
    },
    {
      "cell_type": "code",
      "execution_count": null,
      "metadata": {
        "colab": {
          "base_uri": "https://localhost:8080/"
        },
        "id": "R1Atv3IctVUk",
        "outputId": "6f2b9d16-da79-4201-d9a8-cd94a6494990"
      },
      "outputs": [
        {
          "name": "stdout",
          "output_type": "stream",
          "text": [
            "(17288, 12058)\n"
          ]
        },
        {
          "name": "stderr",
          "output_type": "stream",
          "text": [
            "/usr/local/lib/python3.7/dist-packages/pandas/util/_decorators.py:311: SettingWithCopyWarning: \n",
            "A value is trying to be set on a copy of a slice from a DataFrame\n",
            "\n",
            "See the caveats in the documentation: https://pandas.pydata.org/pandas-docs/stable/user_guide/indexing.html#returning-a-view-versus-a-copy\n",
            "  return func(*args, **kwargs)\n"
          ]
        }
      ],
      "source": [
        "# dataframe has core features + mechanical traits + categories + game type\n",
        "features_df= game_df[feature_columns]\n",
        "features_df.dropna(subset=['bayes_rating'], inplace=True,axis=0)\n",
        "print(features_df.shape)"
      ]
    },
    {
      "cell_type": "markdown",
      "metadata": {
        "id": "wM1xOV89u1h_"
      },
      "source": [
        "Using Single Train Test Split"
      ]
    },
    {
      "cell_type": "code",
      "execution_count": null,
      "metadata": {
        "colab": {
          "base_uri": "https://localhost:8080/"
        },
        "id": "jyMvTorDtefy",
        "outputId": "b11ab577-7333-40df-e85f-286c94a58dad"
      },
      "outputs": [
        {
          "name": "stdout",
          "output_type": "stream",
          "text": [
            "(12966, 12057) (12966,)\n"
          ]
        }
      ],
      "source": [
        "# Train Test Split\n",
        "X = features_df.drop(columns=['bayes_rating'], axis=1)\n",
        "\n",
        "y = features_df['bayes_rating']\n",
        "\n",
        "X_train, X_test, y_train, y_test = train_test_split(X, y, random_state=RANDOM_STATE)\n",
        "print(X_train.shape, y_train.shape)"
      ]
    },
    {
      "cell_type": "code",
      "execution_count": null,
      "metadata": {
        "id": "Verpm8w-t7Pv"
      },
      "outputs": [],
      "source": [
        "target_cols=['complexity','max_players','max_time','min_age','min_players', 'min_time']"
      ]
    },
    {
      "cell_type": "code",
      "execution_count": null,
      "metadata": {
        "id": "7XPhQStDt_01"
      },
      "outputs": [],
      "source": [
        "#Using a simple imputer to replace the nans in the dataset\n",
        "\n",
        "# median imputed\n",
        "median_imputer = SimpleImputer(strategy='median')\n",
        "median_imputed= median_imputer.fit_transform(X_train[target_cols])\n",
        "X_train[['complexity','max_players','max_time','min_age','min_players', 'min_time']]= median_imputed\n",
        "\n",
        "median_imputed_test = median_imputer.transform(X_test[target_cols])\n",
        "X_test[['complexity','max_players','max_time','min_age','min_players', 'min_time']]= median_imputed_test\n",
        "\n",
        "#X_test.shape"
      ]
    },
    {
      "cell_type": "code",
      "execution_count": null,
      "metadata": {
        "colab": {
          "base_uri": "https://localhost:8080/"
        },
        "id": "LKTXF8JGuOv1",
        "outputId": "9ad0dd6a-3a49-42ef-9bea-bf145853603a"
      },
      "outputs": [
        {
          "name": "stdout",
          "output_type": "stream",
          "text": [
            "Training set score: 0.96\n",
            "Test set score: 0.69\n"
          ]
        }
      ],
      "source": [
        "# using RandomForestRegressor\n",
        "regr = RandomForestRegressor(random_state=RANDOM_STATE, n_jobs= -1).fit(X_train, y_train)\n",
        "y_pred_rf = regr.predict(X_test)\n",
        "print(\"Training set score: {:.2f}\".format(regr.score(X_train, y_train)))\n",
        "print(\"Test set score: {:.2f}\".format(regr.score(X_test, y_test)))\n"
      ]
    },
    {
      "cell_type": "code",
      "execution_count": null,
      "metadata": {
        "colab": {
          "base_uri": "https://localhost:8080/"
        },
        "id": "ez3Mt9bhnJz7",
        "outputId": "73a5e1bc-5624-4a54-931d-5459f01fa7e9"
      },
      "outputs": [
        {
          "name": "stdout",
          "output_type": "stream",
          "text": [
            "Training set score: 0.58\n",
            "Test set score: 0.52\n"
          ]
        }
      ],
      "source": [
        "# using GradientBoostingRegressor\n",
        "gbrt = GradientBoostingRegressor(random_state=RANDOM_STATE).fit(X_train, y_train)\n",
        "gbrt_predict = gbrt.predict(X_test)\n",
        "print(\"Training set score: {:.2f}\".format(gbrt.score(X_train, y_train)))\n",
        "print(\"Test set score: {:.2f}\".format(gbrt.score(X_test, y_test)))"
      ]
    },
    {
      "cell_type": "markdown",
      "metadata": {
        "id": "WFqhUpkXudJX"
      },
      "source": [
        "Plotting Feature Importance"
      ]
    },
    {
      "cell_type": "code",
      "execution_count": null,
      "metadata": {
        "id": "l7Sm8qvyuWCj"
      },
      "outputs": [],
      "source": [
        "feature_importance = regr.feature_importances_\n",
        "# sorted_idx = (np.argsort(feature_importance))\n",
        "# pos = np.arange(sorted_idx.shape[0]) \n",
        "# fig = plt.figure(figsize=(15, 40))\n",
        "\n",
        "# plt.barh(pos, feature_importance[sorted_idx])\n",
        "# plt.yticks(pos, np.array(X_feat.columns)[sorted_idx])\n",
        "# plt.title(\"Feature Importance \")\n",
        "\n",
        "\n",
        "# fig.tight_layout()\n",
        "# plt.show()"
      ]
    },
    {
      "cell_type": "code",
      "execution_count": null,
      "metadata": {
        "id": "0pfKnInFulmV"
      },
      "outputs": [],
      "source": [
        "sorted_indices = np.argsort(feature_importance)[::-1]\n",
        " \n",
        "feat_labels = X_feat.columns\n",
        "key_features = []\n",
        "for f in range(286):\n",
        "  \n",
        "      print(\"%2d) %-*s %f\" % (f + 1, 30,\n",
        "                            feat_labels[sorted_indices[f]],\n",
        "                            feature_importance[sorted_indices[f]]))\n",
        "      key_features.append(feat_labels[sorted_indices[f]])"
      ]
    },
    {
      "cell_type": "markdown",
      "metadata": {
        "id": "8aGhTwguMd0p"
      },
      "source": [
        "Hyperparameter Tuning with Gridsearch- Random Forest Regressor"
      ]
    },
    {
      "cell_type": "code",
      "execution_count": null,
      "metadata": {
        "colab": {
          "background_save": true,
          "base_uri": "https://localhost:8080/"
        },
        "id": "JsZn4ZPpMce3",
        "outputId": "8174638c-2d50-47d1-ee8d-0bb6b9ce9118"
      },
      "outputs": [
        {
          "name": "stderr",
          "output_type": "stream",
          "text": [
            "/usr/local/lib/python3.7/dist-packages/joblib/externals/loky/process_executor.py:703: UserWarning: A worker stopped while some jobs were given to the executor. This can be caused by a too short worker timeout or by a memory leak.\n",
            "  \"timeout or by a memory leak.\", UserWarning\n"
          ]
        }
      ],
      "source": [
        "# using grid search cv to find the optimal parameters\n",
        "param_grid = {  'bootstrap': [True], 'max_depth': [100,150, 200, 250], 'max_features':[\"auto\",'sqrt'], 'n_estimators': [ 100, 1000,10000 ]}\n",
        "regr = RandomForestRegressor( random_state= RANDOM_STATE)\n",
        "g_search = GridSearchCV(estimator = regr, param_grid = param_grid, cv=3,  n_jobs = -1, verbose = 0)\n",
        "\n",
        "g_search.fit(X_train, y_train)\n",
        "print('Grid best parameter (max. accuracy): ', g_search.best_params_)\n",
        "print('Grid best score (accuracy): ', g_search.best_score_)"
      ]
    },
    {
      "cell_type": "code",
      "execution_count": null,
      "metadata": {
        "colab": {
          "base_uri": "https://localhost:8080/"
        },
        "id": "x58TZdRXNH0h",
        "outputId": "4f08e580-3307-4d8b-9531-a93e744125d1"
      },
      "outputs": [
        {
          "name": "stdout",
          "output_type": "stream",
          "text": [
            "Grid best parameter (max. accuracy):  {'bootstrap': True, 'max_depth': 100, 'max_features': 'auto', 'n_estimators': 250}\n",
            "Grid best score (accuracy):  0.5568006559746987\n"
          ]
        }
      ],
      "source": [
        "print('Grid best parameter (max. accuracy): ', g_search.best_params_)\n",
        "print('Grid best score (accuracy): ', g_search.best_score_)"
      ]
    },
    {
      "cell_type": "markdown",
      "metadata": {
        "id": "W-OYrNLRq7hD"
      },
      "source": [
        "Hyperparameter Tuning with Gridsearch- Gradient Boosting Regressor"
      ]
    },
    {
      "cell_type": "code",
      "execution_count": null,
      "metadata": {
        "colab": {
          "base_uri": "https://localhost:8080/"
        },
        "id": "UHGCExOCq8Ih",
        "outputId": "95e59abd-b637-47f2-ecc8-d8ae999ce1c5"
      },
      "outputs": [
        {
          "name": "stderr",
          "output_type": "stream",
          "text": [
            "/usr/local/lib/python3.7/dist-packages/joblib/externals/loky/process_executor.py:703: UserWarning: A worker stopped while some jobs were given to the executor. This can be caused by a too short worker timeout or by a memory leak.\n",
            "  \"timeout or by a memory leak.\", UserWarning\n"
          ]
        },
        {
          "name": "stdout",
          "output_type": "stream",
          "text": [
            "Grid best parameter (max. accuracy):  {'learning_rate': 0.1, 'max_depth': 10, 'n_estimators': 200}\n",
            "Grid best score (accuracy):  0.5596879878944575\n"
          ]
        }
      ],
      "source": [
        "gbc = GradientBoostingRegressor()\n",
        "parameters = {\n",
        "    \"n_estimators\":[100,150,200,250],\n",
        "    \"max_depth\":[10, 50, 100, 150],\n",
        "    \"learning_rate\":[0.1,0.5,0.8,1]\n",
        "}\n",
        "cv = GridSearchCV(estimator= gbc,param_grid= parameters,cv=5,n_jobs = -1)\n",
        "cv.fit(X_train, y_train)\n",
        "\n",
        "print('Grid best parameter (max. accuracy): ', cv.best_params_)\n",
        "print('Grid best score (accuracy): ', cv.best_score_)"
      ]
    },
    {
      "cell_type": "markdown",
      "metadata": {
        "id": "syd7fzMSw0We"
      },
      "source": [
        "#Game Category Classification based on Game Description + Mechanics + Game Type + Family features"
      ]
    },
    {
      "cell_type": "code",
      "execution_count": null,
      "metadata": {
        "id": "bmxf3FTZxd56"
      },
      "outputs": [],
      "source": [
        "game_df= game_df[game_df.year>=2000]"
      ]
    },
    {
      "cell_type": "code",
      "execution_count": null,
      "metadata": {
        "id": "zxHg91q6UCi-"
      },
      "outputs": [],
      "source": [
        "one_hot = list(game_df.columns[33:])\n",
        "one_hot.append('cooperative')\n",
        "game_df[one_hot]=game_df[one_hot].fillna(0)\n",
        "\n",
        "#Extracting  mechanical, family & game types and using them as predictor features along with descriptions\n",
        "mec_traits =[col for col in game_df[one_hot] if col.startswith('mechanic_')]\n",
        "game_type_traits =[col for col in game_df[one_hot] if col.startswith('game_type_')]\n",
        "family = [col for col in game_df[one_hot] if col.startswith('family_')]"
      ]
    },
    {
      "cell_type": "code",
      "execution_count": null,
      "metadata": {
        "id": "NNy4raX_WKNZ"
      },
      "outputs": [],
      "source": [
        "feature_columns = ['description','category']\n",
        "feature_columns.extend(mec_traits)\n",
        "feature_columns.extend(game_type_traits)\n",
        "feature_columns.extend(family)"
      ]
    },
    {
      "cell_type": "code",
      "execution_count": null,
      "metadata": {
        "id": "EzTt_-rvWO-G"
      },
      "outputs": [],
      "source": [
        "game_category_df = game_df[feature_columns]"
      ]
    },
    {
      "cell_type": "code",
      "execution_count": null,
      "metadata": {
        "id": "75qR1X6wdtrk"
      },
      "outputs": [],
      "source": [
        "# filling Nans in category column with \"no category\"\n",
        "game_category_df['category']= game_category_df['category'].fillna('[\"no category\"]')"
      ]
    },
    {
      "cell_type": "code",
      "execution_count": null,
      "metadata": {
        "id": "a7mqmCc4xi9f"
      },
      "outputs": [],
      "source": [
        "import ast\n",
        "# category is the target variable\n",
        "# cleaning the category column and converting it from a string to list of strings\n",
        "\n",
        "game_category_df['cleaned_category'] = game_category_df['category'].apply(lambda x: ast.literal_eval(x))\n",
        "\n",
        "\n"
      ]
    },
    {
      "cell_type": "code",
      "execution_count": null,
      "metadata": {
        "colab": {
          "base_uri": "https://localhost:8080/"
        },
        "id": "KQu0-YQLx7Vx",
        "outputId": "c35f6d57-e3be-473a-8ad3-24426595e010"
      },
      "outputs": [
        {
          "output_type": "stream",
          "name": "stdout",
          "text": [
            "description                               1\n",
            "category                                  0\n",
            "mechanic_Acting                           0\n",
            "mechanic_Action Drafting                  0\n",
            "mechanic_Action Points                    0\n",
            "                                         ..\n",
            "family_Word Games: Guess the Word         0\n",
            "family_Word Games: Guess the Word'        0\n",
            "family_Word Games: Spelling / Letters     0\n",
            "family_Word Games: Spelling / Letters'    0\n",
            "cleaned_category                          0\n",
            "Length: 5281, dtype: int64\n"
          ]
        }
      ],
      "source": [
        "# checking for nans\n",
        "print(game_category_df.isna().sum())\n",
        "game_category_df.dropna(inplace=True)\n",
        "#game_category_df.isna().sum()"
      ]
    },
    {
      "cell_type": "code",
      "execution_count": null,
      "metadata": {
        "colab": {
          "base_uri": "https://localhost:8080/",
          "height": 699
        },
        "id": "T3K-Ag-syEjl",
        "outputId": "1a570973-ad6b-43d2-d785-6f84416ad6e0"
      },
      "outputs": [
        {
          "output_type": "execute_result",
          "data": {
            "text/plain": [
              "                                           description  \\\n",
              "340  Described by the designer as a cross between D...   \n",
              "413  Northwest India at the beginning of the 18th c...   \n",
              "416  In Citadels, players take on new roles each ro...   \n",
              "419  This game uses a collection of smallish hexago...   \n",
              "428  Warangel is a light, fantasy wargame, comprisi...   \n",
              "\n",
              "                                              category  mechanic_Acting  \\\n",
              "340                          ['Bluffing', 'Card Game']              0.0   \n",
              "413                          ['Bluffing', 'Political']              0.0   \n",
              "416  ['Bluffing', 'Card Game', 'City Building', 'De...              0.0   \n",
              "419  ['Abstract Strategy', 'Medieval', 'Territory B...              0.0   \n",
              "428  ['Fantasy', 'Mythology', 'Print & Play', 'Warg...              0.0   \n",
              "\n",
              "     mechanic_Action Drafting  mechanic_Action Points  mechanic_Action Queue  \\\n",
              "340                       0.0                     0.0                    0.0   \n",
              "413                       0.0                     0.0                    0.0   \n",
              "416                       1.0                     0.0                    0.0   \n",
              "419                       0.0                     0.0                    0.0   \n",
              "428                       0.0                     0.0                    0.0   \n",
              "\n",
              "     mechanic_Action Retrieval  mechanic_Action Timer  mechanic_Action/Event  \\\n",
              "340                        0.0                    0.0                    0.0   \n",
              "413                        0.0                    0.0                    0.0   \n",
              "416                        0.0                    0.0                    0.0   \n",
              "419                        0.0                    0.0                    0.0   \n",
              "428                        0.0                    0.0                    0.0   \n",
              "\n",
              "     mechanic_Advantage Token  ...  \\\n",
              "340                       0.0  ...   \n",
              "413                       0.0  ...   \n",
              "416                       0.0  ...   \n",
              "419                       0.0  ...   \n",
              "428                       0.0  ...   \n",
              "\n",
              "     family_Video Game Theme: The Oregon Trail'  \\\n",
              "340                                         0.0   \n",
              "413                                         0.0   \n",
              "416                                         0.0   \n",
              "419                                         0.0   \n",
              "428                                         0.0   \n",
              "\n",
              "     family_Webcomics: Dork Tower'  family_Webcomics: Penny Arcade'  \\\n",
              "340                            0.0                              0.0   \n",
              "413                            0.0                              0.0   \n",
              "416                            0.0                              0.0   \n",
              "419                            0.0                              0.0   \n",
              "428                            0.0                              0.0   \n",
              "\n",
              "     family_Word Games: First Letter Given'  \\\n",
              "340                                     0.0   \n",
              "413                                     0.0   \n",
              "416                                     0.0   \n",
              "419                                     0.0   \n",
              "428                                     0.0   \n",
              "\n",
              "     family_Word Games: Guess the Word  family_Word Games: Guess the Word'  \\\n",
              "340                                0.0                                 0.0   \n",
              "413                                0.0                                 0.0   \n",
              "416                                0.0                                 0.0   \n",
              "419                                0.0                                 0.0   \n",
              "428                                0.0                                 0.0   \n",
              "\n",
              "     family_Word Games: Spelling / Letters  \\\n",
              "340                                    0.0   \n",
              "413                                    0.0   \n",
              "416                                    0.0   \n",
              "419                                    0.0   \n",
              "428                                    0.0   \n",
              "\n",
              "     family_Word Games: Spelling / Letters'  \\\n",
              "340                                     0.0   \n",
              "413                                     0.0   \n",
              "416                                     0.0   \n",
              "419                                     0.0   \n",
              "428                                     0.0   \n",
              "\n",
              "                                      cleaned_category  \\\n",
              "340                              [Bluffing, Card Game]   \n",
              "413                              [Bluffing, Political]   \n",
              "416  [Bluffing, Card Game, City Building, Deduction...   \n",
              "419  [Abstract Strategy, Medieval, Territory Building]   \n",
              "428        [Fantasy, Mythology, Print & Play, Wargame]   \n",
              "\n",
              "                                   cleaned_description  \n",
              "340  described designer cross doris franks banana r...  \n",
              "413  northwest india beginning th century rule gran...  \n",
              "416  citadels player take new role round represent ...  \n",
              "419  game us collection smallish hexagon cluster ar...  \n",
              "428  warangel light fantasy wargame comprising warr...  \n",
              "\n",
              "[5 rows x 5282 columns]"
            ],
            "text/html": [
              "\n",
              "  <div id=\"df-0bdb0e6a-4632-46fe-8ae2-07a6a160a2ab\">\n",
              "    <div class=\"colab-df-container\">\n",
              "      <div>\n",
              "<style scoped>\n",
              "    .dataframe tbody tr th:only-of-type {\n",
              "        vertical-align: middle;\n",
              "    }\n",
              "\n",
              "    .dataframe tbody tr th {\n",
              "        vertical-align: top;\n",
              "    }\n",
              "\n",
              "    .dataframe thead th {\n",
              "        text-align: right;\n",
              "    }\n",
              "</style>\n",
              "<table border=\"1\" class=\"dataframe\">\n",
              "  <thead>\n",
              "    <tr style=\"text-align: right;\">\n",
              "      <th></th>\n",
              "      <th>description</th>\n",
              "      <th>category</th>\n",
              "      <th>mechanic_Acting</th>\n",
              "      <th>mechanic_Action Drafting</th>\n",
              "      <th>mechanic_Action Points</th>\n",
              "      <th>mechanic_Action Queue</th>\n",
              "      <th>mechanic_Action Retrieval</th>\n",
              "      <th>mechanic_Action Timer</th>\n",
              "      <th>mechanic_Action/Event</th>\n",
              "      <th>mechanic_Advantage Token</th>\n",
              "      <th>...</th>\n",
              "      <th>family_Video Game Theme: The Oregon Trail'</th>\n",
              "      <th>family_Webcomics: Dork Tower'</th>\n",
              "      <th>family_Webcomics: Penny Arcade'</th>\n",
              "      <th>family_Word Games: First Letter Given'</th>\n",
              "      <th>family_Word Games: Guess the Word</th>\n",
              "      <th>family_Word Games: Guess the Word'</th>\n",
              "      <th>family_Word Games: Spelling / Letters</th>\n",
              "      <th>family_Word Games: Spelling / Letters'</th>\n",
              "      <th>cleaned_category</th>\n",
              "      <th>cleaned_description</th>\n",
              "    </tr>\n",
              "  </thead>\n",
              "  <tbody>\n",
              "    <tr>\n",
              "      <th>340</th>\n",
              "      <td>Described by the designer as a cross between D...</td>\n",
              "      <td>['Bluffing', 'Card Game']</td>\n",
              "      <td>0.0</td>\n",
              "      <td>0.0</td>\n",
              "      <td>0.0</td>\n",
              "      <td>0.0</td>\n",
              "      <td>0.0</td>\n",
              "      <td>0.0</td>\n",
              "      <td>0.0</td>\n",
              "      <td>0.0</td>\n",
              "      <td>...</td>\n",
              "      <td>0.0</td>\n",
              "      <td>0.0</td>\n",
              "      <td>0.0</td>\n",
              "      <td>0.0</td>\n",
              "      <td>0.0</td>\n",
              "      <td>0.0</td>\n",
              "      <td>0.0</td>\n",
              "      <td>0.0</td>\n",
              "      <td>[Bluffing, Card Game]</td>\n",
              "      <td>described designer cross doris franks banana r...</td>\n",
              "    </tr>\n",
              "    <tr>\n",
              "      <th>413</th>\n",
              "      <td>Northwest India at the beginning of the 18th c...</td>\n",
              "      <td>['Bluffing', 'Political']</td>\n",
              "      <td>0.0</td>\n",
              "      <td>0.0</td>\n",
              "      <td>0.0</td>\n",
              "      <td>0.0</td>\n",
              "      <td>0.0</td>\n",
              "      <td>0.0</td>\n",
              "      <td>0.0</td>\n",
              "      <td>0.0</td>\n",
              "      <td>...</td>\n",
              "      <td>0.0</td>\n",
              "      <td>0.0</td>\n",
              "      <td>0.0</td>\n",
              "      <td>0.0</td>\n",
              "      <td>0.0</td>\n",
              "      <td>0.0</td>\n",
              "      <td>0.0</td>\n",
              "      <td>0.0</td>\n",
              "      <td>[Bluffing, Political]</td>\n",
              "      <td>northwest india beginning th century rule gran...</td>\n",
              "    </tr>\n",
              "    <tr>\n",
              "      <th>416</th>\n",
              "      <td>In Citadels, players take on new roles each ro...</td>\n",
              "      <td>['Bluffing', 'Card Game', 'City Building', 'De...</td>\n",
              "      <td>0.0</td>\n",
              "      <td>1.0</td>\n",
              "      <td>0.0</td>\n",
              "      <td>0.0</td>\n",
              "      <td>0.0</td>\n",
              "      <td>0.0</td>\n",
              "      <td>0.0</td>\n",
              "      <td>0.0</td>\n",
              "      <td>...</td>\n",
              "      <td>0.0</td>\n",
              "      <td>0.0</td>\n",
              "      <td>0.0</td>\n",
              "      <td>0.0</td>\n",
              "      <td>0.0</td>\n",
              "      <td>0.0</td>\n",
              "      <td>0.0</td>\n",
              "      <td>0.0</td>\n",
              "      <td>[Bluffing, Card Game, City Building, Deduction...</td>\n",
              "      <td>citadels player take new role round represent ...</td>\n",
              "    </tr>\n",
              "    <tr>\n",
              "      <th>419</th>\n",
              "      <td>This game uses a collection of smallish hexago...</td>\n",
              "      <td>['Abstract Strategy', 'Medieval', 'Territory B...</td>\n",
              "      <td>0.0</td>\n",
              "      <td>0.0</td>\n",
              "      <td>0.0</td>\n",
              "      <td>0.0</td>\n",
              "      <td>0.0</td>\n",
              "      <td>0.0</td>\n",
              "      <td>0.0</td>\n",
              "      <td>0.0</td>\n",
              "      <td>...</td>\n",
              "      <td>0.0</td>\n",
              "      <td>0.0</td>\n",
              "      <td>0.0</td>\n",
              "      <td>0.0</td>\n",
              "      <td>0.0</td>\n",
              "      <td>0.0</td>\n",
              "      <td>0.0</td>\n",
              "      <td>0.0</td>\n",
              "      <td>[Abstract Strategy, Medieval, Territory Building]</td>\n",
              "      <td>game us collection smallish hexagon cluster ar...</td>\n",
              "    </tr>\n",
              "    <tr>\n",
              "      <th>428</th>\n",
              "      <td>Warangel is a light, fantasy wargame, comprisi...</td>\n",
              "      <td>['Fantasy', 'Mythology', 'Print &amp; Play', 'Warg...</td>\n",
              "      <td>0.0</td>\n",
              "      <td>0.0</td>\n",
              "      <td>0.0</td>\n",
              "      <td>0.0</td>\n",
              "      <td>0.0</td>\n",
              "      <td>0.0</td>\n",
              "      <td>0.0</td>\n",
              "      <td>0.0</td>\n",
              "      <td>...</td>\n",
              "      <td>0.0</td>\n",
              "      <td>0.0</td>\n",
              "      <td>0.0</td>\n",
              "      <td>0.0</td>\n",
              "      <td>0.0</td>\n",
              "      <td>0.0</td>\n",
              "      <td>0.0</td>\n",
              "      <td>0.0</td>\n",
              "      <td>[Fantasy, Mythology, Print &amp; Play, Wargame]</td>\n",
              "      <td>warangel light fantasy wargame comprising warr...</td>\n",
              "    </tr>\n",
              "  </tbody>\n",
              "</table>\n",
              "<p>5 rows × 5282 columns</p>\n",
              "</div>\n",
              "      <button class=\"colab-df-convert\" onclick=\"convertToInteractive('df-0bdb0e6a-4632-46fe-8ae2-07a6a160a2ab')\"\n",
              "              title=\"Convert this dataframe to an interactive table.\"\n",
              "              style=\"display:none;\">\n",
              "        \n",
              "  <svg xmlns=\"http://www.w3.org/2000/svg\" height=\"24px\"viewBox=\"0 0 24 24\"\n",
              "       width=\"24px\">\n",
              "    <path d=\"M0 0h24v24H0V0z\" fill=\"none\"/>\n",
              "    <path d=\"M18.56 5.44l.94 2.06.94-2.06 2.06-.94-2.06-.94-.94-2.06-.94 2.06-2.06.94zm-11 1L8.5 8.5l.94-2.06 2.06-.94-2.06-.94L8.5 2.5l-.94 2.06-2.06.94zm10 10l.94 2.06.94-2.06 2.06-.94-2.06-.94-.94-2.06-.94 2.06-2.06.94z\"/><path d=\"M17.41 7.96l-1.37-1.37c-.4-.4-.92-.59-1.43-.59-.52 0-1.04.2-1.43.59L10.3 9.45l-7.72 7.72c-.78.78-.78 2.05 0 2.83L4 21.41c.39.39.9.59 1.41.59.51 0 1.02-.2 1.41-.59l7.78-7.78 2.81-2.81c.8-.78.8-2.07 0-2.86zM5.41 20L4 18.59l7.72-7.72 1.47 1.35L5.41 20z\"/>\n",
              "  </svg>\n",
              "      </button>\n",
              "      \n",
              "  <style>\n",
              "    .colab-df-container {\n",
              "      display:flex;\n",
              "      flex-wrap:wrap;\n",
              "      gap: 12px;\n",
              "    }\n",
              "\n",
              "    .colab-df-convert {\n",
              "      background-color: #E8F0FE;\n",
              "      border: none;\n",
              "      border-radius: 50%;\n",
              "      cursor: pointer;\n",
              "      display: none;\n",
              "      fill: #1967D2;\n",
              "      height: 32px;\n",
              "      padding: 0 0 0 0;\n",
              "      width: 32px;\n",
              "    }\n",
              "\n",
              "    .colab-df-convert:hover {\n",
              "      background-color: #E2EBFA;\n",
              "      box-shadow: 0px 1px 2px rgba(60, 64, 67, 0.3), 0px 1px 3px 1px rgba(60, 64, 67, 0.15);\n",
              "      fill: #174EA6;\n",
              "    }\n",
              "\n",
              "    [theme=dark] .colab-df-convert {\n",
              "      background-color: #3B4455;\n",
              "      fill: #D2E3FC;\n",
              "    }\n",
              "\n",
              "    [theme=dark] .colab-df-convert:hover {\n",
              "      background-color: #434B5C;\n",
              "      box-shadow: 0px 1px 3px 1px rgba(0, 0, 0, 0.15);\n",
              "      filter: drop-shadow(0px 1px 2px rgba(0, 0, 0, 0.3));\n",
              "      fill: #FFFFFF;\n",
              "    }\n",
              "  </style>\n",
              "\n",
              "      <script>\n",
              "        const buttonEl =\n",
              "          document.querySelector('#df-0bdb0e6a-4632-46fe-8ae2-07a6a160a2ab button.colab-df-convert');\n",
              "        buttonEl.style.display =\n",
              "          google.colab.kernel.accessAllowed ? 'block' : 'none';\n",
              "\n",
              "        async function convertToInteractive(key) {\n",
              "          const element = document.querySelector('#df-0bdb0e6a-4632-46fe-8ae2-07a6a160a2ab');\n",
              "          const dataTable =\n",
              "            await google.colab.kernel.invokeFunction('convertToInteractive',\n",
              "                                                     [key], {});\n",
              "          if (!dataTable) return;\n",
              "\n",
              "          const docLinkHtml = 'Like what you see? Visit the ' +\n",
              "            '<a target=\"_blank\" href=https://colab.research.google.com/notebooks/data_table.ipynb>data table notebook</a>'\n",
              "            + ' to learn more about interactive tables.';\n",
              "          element.innerHTML = '';\n",
              "          dataTable['output_type'] = 'display_data';\n",
              "          await google.colab.output.renderOutput(dataTable, element);\n",
              "          const docLink = document.createElement('div');\n",
              "          docLink.innerHTML = docLinkHtml;\n",
              "          element.appendChild(docLink);\n",
              "        }\n",
              "      </script>\n",
              "    </div>\n",
              "  </div>\n",
              "  "
            ]
          },
          "metadata": {},
          "execution_count": 12
        }
      ],
      "source": [
        "# function for text cleaning of descriptions\n",
        "\n",
        "# Create WordNetLemmatizer object\n",
        "wnl = WordNetLemmatizer()\n",
        "\n",
        "def clean_text(text):\n",
        "    # remove backslash-apostrophe \n",
        "    text = re.sub(\"\\'\", \"\", str(text) )\n",
        "    # remove everything except alphabets \n",
        "    text = re.sub(\"[^a-zA-Z]\",\" \",str(text)) \n",
        "    # Create a list of tokens\n",
        "    list1 = nltk.word_tokenize(text)\n",
        "    # Lemmatize\n",
        "    lemmatized_string = ' '.join([wnl.lemmatize(words) for words in list1])\n",
        "    # remove whitespaces \n",
        "    text = ' '.join(lemmatized_string.split()) \n",
        "    # convert text to lowercase \n",
        "    text = text.lower() \n",
        "    \n",
        "    return text\n",
        "\n",
        "# removal of stopwords\n",
        "stop_words = set(stopwords.words('english'))\n",
        "stop_words_spa=set(stopwords.words('spanish'))\n",
        "\n",
        "# function to remove stopwords\n",
        "def remove_stopwords(text):\n",
        "    if text is not None:\n",
        "      no_stopword_text = [w for w in text.split() if not w in (stop_words or stop_words_spa)]\n",
        "      return ' '.join(no_stopword_text)\n",
        "\n",
        "\n",
        "\n",
        "\n",
        "\n",
        "game_category_df['cleaned_description'] = game_category_df['description'].apply(clean_text)\n",
        "game_category_df['cleaned_description'] = game_category_df['cleaned_description'].apply(remove_stopwords)\n",
        "game_category_df.head()"
      ]
    },
    {
      "cell_type": "code",
      "execution_count": null,
      "metadata": {
        "id": "PTysu9OV0IFR"
      },
      "outputs": [],
      "source": [
        "#game_category_df.query('name==\"Citadels\"')[['cleaned_category']]"
      ]
    },
    {
      "cell_type": "code",
      "execution_count": null,
      "metadata": {
        "colab": {
          "base_uri": "https://localhost:8080/"
        },
        "id": "-QqiBuG20T6x",
        "outputId": "18bfc16e-1738-4698-ac90-fe4eb7a540d1"
      },
      "outputs": [
        {
          "output_type": "execute_result",
          "data": {
            "text/plain": [
              "(17288, 5282)"
            ]
          },
          "metadata": {},
          "execution_count": 13
        }
      ],
      "source": [
        "game_category_df.shape"
      ]
    },
    {
      "cell_type": "code",
      "execution_count": null,
      "metadata": {
        "id": "7EB_aqa_zIOE"
      },
      "outputs": [],
      "source": [
        "# Using MultilabelBinarizer to one hot encode the target variable\n",
        "\n",
        "multilabel_binarizer = MultiLabelBinarizer()\n",
        "multilabel_binarizer.fit(game_category_df['cleaned_category'])\n",
        "\n",
        "# transform target variable\n",
        "y = multilabel_binarizer.transform(game_category_df['cleaned_category'])\n"
      ]
    },
    {
      "cell_type": "code",
      "source": [
        "#multilabel_binarizer.classes_"
      ],
      "metadata": {
        "colab": {
          "base_uri": "https://localhost:8080/"
        },
        "id": "8zOmCIXV1P9y",
        "outputId": "0a35fcdc-23e0-4cb4-f615-5d86a952c3ce"
      },
      "execution_count": null,
      "outputs": [
        {
          "output_type": "execute_result",
          "data": {
            "text/plain": [
              "array(['Abstract Strategy', 'Action / Dexterity', 'Adventure',\n",
              "       'Age of Reason', 'American Civil War', 'American Indian Wars',\n",
              "       'American Revolutionary War', 'American West', 'Ancient',\n",
              "       'Animals', 'Arabian', 'Aviation / Flight', 'Bluffing', 'Book',\n",
              "       'Card Game', \"Children's Game\", 'City Building', 'Civil War',\n",
              "       'Civilization', 'Collectible Components', 'Comic Book / Strip',\n",
              "       'Deduction', 'Dice', 'Economic', 'Educational', 'Electronic',\n",
              "       'Environmental', 'Expansion for Base-game', 'Exploration',\n",
              "       'Fan Expansion', 'Fantasy', 'Farming', 'Fighting', 'Game System',\n",
              "       'Horror', 'Humor', 'Industry / Manufacturing', 'Korean War',\n",
              "       'Mafia', 'Math', 'Mature / Adult', 'Maze', 'Medical', 'Medieval',\n",
              "       'Memory', 'Miniatures', 'Modern Warfare',\n",
              "       'Movies / TV / Radio theme', 'Murder/Mystery', 'Music',\n",
              "       'Mythology', 'Napoleonic', 'Nautical', 'Negotiation',\n",
              "       'Novel-based', 'Number', 'Party Game', 'Pike and Shot', 'Pirates',\n",
              "       'Political', 'Post-Napoleonic', 'Prehistoric', 'Print & Play',\n",
              "       'Puzzle', 'Racing', 'Real-time', 'Religious', 'Renaissance',\n",
              "       'Science Fiction', 'Space Exploration', 'Spies/Secret Agents',\n",
              "       'Sports', 'Territory Building', 'Trains', 'Transportation',\n",
              "       'Travel', 'Trivia', 'Video Game Theme', 'Vietnam War', 'Wargame',\n",
              "       'Word Game', 'World War I', 'World War II', 'Zombies',\n",
              "       'no category'], dtype=object)"
            ]
          },
          "metadata": {},
          "execution_count": 54
        }
      ]
    },
    {
      "cell_type": "code",
      "execution_count": null,
      "metadata": {
        "colab": {
          "base_uri": "https://localhost:8080/"
        },
        "id": "LuT1r3L00xIo",
        "outputId": "dd76b736-6e6f-4caf-8536-073577655e9b"
      },
      "outputs": [
        {
          "output_type": "execute_result",
          "data": {
            "text/plain": [
              "(17288, 5279)"
            ]
          },
          "metadata": {},
          "execution_count": 15
        }
      ],
      "source": [
        "# Using Cleaned Description as input feature\n",
        "X= game_category_df.drop(columns=['description', 'category', 'cleaned_category'], axis=1)\n",
        "X.shape"
      ]
    },
    {
      "cell_type": "code",
      "execution_count": null,
      "metadata": {
        "colab": {
          "base_uri": "https://localhost:8080/"
        },
        "id": "xly6YoLd1FlX",
        "outputId": "63a6f570-4914-404f-f027-4780bf98bbbe"
      },
      "outputs": [
        {
          "output_type": "execute_result",
          "data": {
            "text/plain": [
              "((12966, 5279), (12966, 85))"
            ]
          },
          "metadata": {},
          "execution_count": 16
        }
      ],
      "source": [
        "# Split into train test split\n",
        "xtrain, xtest, ytrain, ytest = train_test_split(X,y, random_state=RANDOM_STATE)\n",
        "xtrain.shape,ytrain.shape"
      ]
    },
    {
      "cell_type": "code",
      "execution_count": null,
      "metadata": {
        "id": "jBcX1sFH1Pmm"
      },
      "outputs": [],
      "source": [
        "# create TF-IDF features\n",
        "vectorizer=TfidfVectorizer(max_features = 10000, ngram_range = (1,2),min_df=0.01)\n",
        "X_train_des = vectorizer.fit_transform(xtrain['cleaned_description']).toarray()\n",
        "\n",
        "X_test_des = vectorizer.transform(xtest['cleaned_description']).toarray()\n",
        "\n",
        "xtrain = xtrain.drop(columns='cleaned_description')\n",
        "xtest = xtest.drop(columns='cleaned_description')"
      ]
    },
    {
      "cell_type": "code",
      "execution_count": null,
      "metadata": {
        "colab": {
          "base_uri": "https://localhost:8080/"
        },
        "id": "QmSp_hvtXnmg",
        "outputId": "5f519e3c-2d75-494f-f701-a992ca518d1a"
      },
      "outputs": [
        {
          "output_type": "execute_result",
          "data": {
            "text/plain": [
              "((12966, 6946), (4322, 6946))"
            ]
          },
          "metadata": {},
          "execution_count": 18
        }
      ],
      "source": [
        "# Combining the original one hot encoded columns(mech, family, game_type) along with the tfidf vector columns in xtrain, xtest\n",
        "for i, col in enumerate(vectorizer.get_feature_names()):\n",
        "    xtrain[col] = X_train_des[:, i]\n",
        "    xtest[col] = X_test_des[:, i]\n",
        "\n",
        "xtrain.shape, xtest.shape"
      ]
    },
    {
      "cell_type": "markdown",
      "metadata": {
        "id": "VemslceuboQA"
      },
      "source": [
        "**Train and Evaluate Classifiers**"
      ]
    },
    {
      "cell_type": "code",
      "execution_count": null,
      "metadata": {
        "id": "QGb51n15dOFA"
      },
      "outputs": [],
      "source": [
        "# evaluation metrics - accuracy, hamming loss, precision, recall & F1 score\n",
        "ModelsPerformance = {}\n",
        "\n",
        "def metricsReport(modelName, test_labels, predictions):\n",
        "    \n",
        "\n",
        "    micro_precision = precision_score(test_labels, predictions, average='micro')\n",
        "    micro_recall = recall_score(test_labels, predictions, average='micro')\n",
        "    micro_f1 = f1_score(test_labels, predictions, average='micro')\n",
        "    hamLoss = hamming_loss(test_labels, predictions)\n",
        "    print(\"------\" + modelName + \" Model Metrics-----\")\n",
        "    print(\"Hamming Loss: {:.4f}\\nPrecision:\\n  - Micro: {:.4f}\\nRecall:\\n  - Micro: {:.4f}\\nF1-measure:\\n  - Micro: {:.4f}\"\\\n",
        "          .format(hamLoss, micro_precision, micro_recall, micro_f1))\n",
        "    ModelsPerformance[modelName] = micro_f1"
      ]
    },
    {
      "cell_type": "code",
      "execution_count": null,
      "metadata": {
        "colab": {
          "base_uri": "https://localhost:8080/"
        },
        "id": "UHnfE-CrdXnQ",
        "outputId": "fc5dc6dc-87a6-4e9f-a166-06a93a0f6702"
      },
      "outputs": [
        {
          "output_type": "stream",
          "name": "stdout",
          "text": [
            "------Logistic Regression Model Metrics-----\n",
            "Accuracy: 0.1988\n",
            "Hamming Loss: 0.0206\n",
            "Precision:\n",
            "  - Micro: 0.8177\n",
            "Recall:\n",
            "  - Micro: 0.4509\n",
            "F1-measure:\n",
            "  - Micro: 0.5813\n"
          ]
        }
      ],
      "source": [
        "# Logistic Regression\n",
        "lr = LogisticRegression(random_state= RANDOM_STATE)\n",
        "\n",
        "log_reg = OneVsRestClassifier(lr)\n",
        "# fit model on train data\n",
        "log_reg.fit(xtrain, ytrain)\n",
        "# make predictions for test set\n",
        "logPreds = log_reg.predict(xtest)\n",
        "metricsReport(\"Logistic Regression\", ytest, logPreds)"
      ]
    },
    {
      "cell_type": "code",
      "execution_count": null,
      "metadata": {
        "id": "E6NlyseBdkvi",
        "colab": {
          "base_uri": "https://localhost:8080/"
        },
        "outputId": "a3f7a6ce-1ccd-4467-c8e3-d6921cca3cb0"
      },
      "outputs": [
        {
          "output_type": "stream",
          "name": "stdout",
          "text": [
            "------Gradient Boosting Model Metrics-----\n",
            "Accuracy: 0.1606\n",
            "Hamming Loss: 0.0230\n",
            "Precision:\n",
            "  - Micro: 0.7196\n",
            "Recall:\n",
            "  - Micro: 0.4466\n",
            "F1-measure:\n",
            "  - Micro: 0.5512\n"
          ]
        }
      ],
      "source": [
        "# GradientBoostingClassifier\n",
        "boostClassifier = OneVsRestClassifier(GradientBoostingClassifier(random_state= RANDOM_STATE),n_jobs=-1)\n",
        "boostClassifier.fit(xtrain, ytrain)\n",
        "boostPreds = boostClassifier.predict(xtest)\n",
        "metricsReport(\"Gradient Boosting\", ytest, boostPreds)"
      ]
    },
    {
      "cell_type": "code",
      "execution_count": null,
      "metadata": {
        "colab": {
          "base_uri": "https://localhost:8080/"
        },
        "id": "nxlLhYn-d63d",
        "outputId": "4c6137fe-4c75-4bac-bf67-d94255f85667"
      },
      "outputs": [
        {
          "output_type": "stream",
          "name": "stdout",
          "text": [
            "------SVC  Model Metrics-----\n",
            "Accuracy: 0.2036\n",
            "Hamming Loss: 0.0216\n",
            "Precision:\n",
            "  - Micro: 0.7147\n",
            "Recall:\n",
            "  - Micro: 0.5300\n",
            "F1-measure:\n",
            "  - Micro: 0.6087\n"
          ]
        }
      ],
      "source": [
        "# SVM\n",
        "svmClassifier = OneVsRestClassifier(LinearSVC(random_state= RANDOM_STATE), n_jobs=-1)\n",
        "svmClassifier.fit(xtrain, ytrain)\n",
        "svmPreds= svmClassifier.predict(xtest)\n",
        "metricsReport(\"SVC \", ytest, svmPreds)"
      ]
    },
    {
      "cell_type": "code",
      "execution_count": null,
      "metadata": {
        "colab": {
          "base_uri": "https://localhost:8080/"
        },
        "id": "nxTdJKqLeakQ",
        "outputId": "b7ce3b48-876e-4fb4-9021-09f887c51945"
      },
      "outputs": [
        {
          "output_type": "stream",
          "name": "stdout",
          "text": [
            "------Multinomial NB Model Metrics-----\n",
            "Accuracy: 0.1333\n",
            "Hamming Loss: 0.0253\n",
            "Precision:\n",
            "  - Micro: 0.6592\n",
            "Recall:\n",
            "  - Micro: 0.4177\n",
            "F1-measure:\n",
            "  - Micro: 0.5114\n"
          ]
        }
      ],
      "source": [
        "# nbClassifier\n",
        "\n",
        "nbClassifier = OneVsRestClassifier(MultinomialNB())\n",
        "nbClassifier.fit(xtrain, ytrain)\n",
        "\n",
        "nbPreds = nbClassifier.predict(xtest)\n",
        "metricsReport(\"Multinomial NB\",  ytest, nbPreds)"
      ]
    },
    {
      "cell_type": "markdown",
      "metadata": {
        "id": "kP1v5cIzhYfO"
      },
      "source": [
        "Comparison on different models based on their Micro-F1 score"
      ]
    },
    {
      "cell_type": "code",
      "execution_count": null,
      "metadata": {
        "colab": {
          "base_uri": "https://localhost:8080/"
        },
        "id": "8xmdGaI_ejID",
        "outputId": "02461dc4-e073-4dae-eebe-05e0b047d7e6"
      },
      "outputs": [
        {
          "output_type": "stream",
          "name": "stdout",
          "text": [
            "  Model Name           | Micro-F1 Score\n",
            "-------------------------------------------\n",
            "  Logistic Regression  | 0.581\n",
            "-------------------------------------------\n",
            "  Gradient Boosting    | 0.551\n",
            "-------------------------------------------\n",
            "  SVC                  | 0.609\n",
            "-------------------------------------------\n",
            "  Multinomial NB       | 0.511\n",
            "-------------------------------------------\n"
          ]
        }
      ],
      "source": [
        "print(\"  Model Name \" + \" \"*10 + \"| Micro-F1 Score\")\n",
        "print(\"-------------------------------------------\")\n",
        "for key, value in ModelsPerformance.items():\n",
        "    print(\"  \" + key, \" \"*(20-len(key)) + \"|\", round(value,3))\n",
        "    print(\"-------------------------------------------\")"
      ]
    },
    {
      "cell_type": "code",
      "execution_count": null,
      "metadata": {
        "id": "8G9yFoQT3Frv"
      },
      "outputs": [],
      "source": [
        "# #Trying diffesrent threshold values to see it effects our f1 score\n",
        "\n",
        "# # Predicting probabilities \n",
        "#y_pred_prob = svmClassifier.predict_proba(xtest)\n",
        "\n",
        "# scores=[]\n",
        "# hamming_scores=[]\n",
        "# threshold_values =[0.3, 0.5, 0.7]\n",
        "# for t in threshold_values:\n",
        "#   y_pred_new = (y_pred_prob >= t).astype(int)\n",
        "#   f1_scores= f1_score(ytest, y_pred_new, average=\"micro\")\n",
        "#   hammingloss = hamming_loss(ytest, y_pred)\n",
        "#   scores.append(round(f1_scores,3))\n",
        "#   hamming_scores.append(round(hammingloss,3))\n",
        "\n",
        "# print(scores)\n",
        "# print(hamming_scores)"
      ]
    },
    {
      "cell_type": "code",
      "execution_count": null,
      "metadata": {
        "colab": {
          "base_uri": "https://localhost:8080/"
        },
        "id": "2BnEuxe59eX5",
        "outputId": "2790090e-970e-454a-c4b7-e1d3d4c7fdda"
      },
      "outputs": [
        {
          "output_type": "stream",
          "name": "stdout",
          "text": [
            "['Card Game', 'Party Game']\n"
          ]
        },
        {
          "output_type": "execute_result",
          "data": {
            "text/plain": [
              "('Party Game', 'Word Game')"
            ]
          },
          "metadata": {},
          "execution_count": 51
        }
      ],
      "source": [
        "#t = 0.3 # threshold value\n",
        "#y_pred_new = (y_pred_prob >= t).astype(int)\n",
        "\n",
        "# Actual categories\n",
        "print(game_category_df.cleaned_category.iloc[14])\n",
        "\n",
        "\n",
        "# using inverse_transform( ) function along with the MultiLabelBinarizer( ) object to convert the predicted arrays into game categories\n",
        "multilabel_binarizer.inverse_transform(svmPreds)[14]\n"
      ]
    },
    {
      "cell_type": "markdown",
      "metadata": {
        "id": "n74f9NOHtIX0"
      },
      "source": [
        "Using Baseline Dummy Classifier for comparison"
      ]
    },
    {
      "cell_type": "markdown",
      "source": [
        "DummyClassifier is a classifier that makes predictions using simple rules, which can be useful as a baseline for comparison against actual classifiers, especially with imbalanced classes."
      ],
      "metadata": {
        "id": "PoahxEt5_qpR"
      }
    },
    {
      "cell_type": "code",
      "execution_count": null,
      "metadata": {
        "id": "dqPA3BEkwyrR"
      },
      "outputs": [],
      "source": [
        "from sklearn.dummy import DummyClassifier\n",
        "\n",
        "clf_dummy = DummyClassifier(strategy='stratified',random_state=RANDOM_STATE) \n",
        "#establishing random_state for reproducibility\n",
        "clf_dummy.fit(xtrain, ytrain)\n",
        "y_pred_dummy = clf_dummy.predict(xtest)"
      ]
    },
    {
      "cell_type": "code",
      "execution_count": null,
      "metadata": {
        "colab": {
          "base_uri": "https://localhost:8080/"
        },
        "id": "0GFwFi6IxC4P",
        "outputId": "eff1e848-0fdf-473c-a3c2-c6803944b473"
      },
      "outputs": [
        {
          "data": {
            "text/plain": [
              "0.059"
            ]
          },
          "execution_count": 146,
          "metadata": {},
          "output_type": "execute_result"
        }
      ],
      "source": [
        "round(f1_score(ytest, y_pred_dummy, average=\"micro\"),3)"
      ]
    },
    {
      "cell_type": "markdown",
      "metadata": {
        "id": "ha-TdpHWrS4L"
      },
      "source": [
        "**Hyperparameter Tuning on Linear SVC - using GridSearch**"
      ]
    },
    {
      "cell_type": "code",
      "source": [
        "param_grid = {'estimator__C' : [0.01,0.1, 1,10],'estimator__penalty':['l1','l2'], 'estimator__loss':['hinge', 'squared_hinge'],\n",
        "              'estimator__max_iter': [1000, 2000,3000]}"
      ],
      "metadata": {
        "id": "Q-WCIXRh3Ubr"
      },
      "execution_count": null,
      "outputs": []
    },
    {
      "cell_type": "code",
      "execution_count": null,
      "metadata": {
        "id": "BULDLD4bMepZ",
        "colab": {
          "base_uri": "https://localhost:8080/"
        },
        "outputId": "877162fe-1348-4b60-94ab-f01018ad1170"
      },
      "outputs": [
        {
          "output_type": "stream",
          "name": "stdout",
          "text": [
            "{'estimator__C': 1, 'estimator__loss': 'hinge', 'estimator__max_iter': 1000, 'estimator__penalty': 'l2'}\n"
          ]
        }
      ],
      "source": [
        "base_estimator = OneVsRestClassifier(LinearSVC(random_state=RANDOM_STATE))\n",
        "gsearch_cv = GridSearchCV(base_estimator, param_grid, scoring='f1_micro', n_jobs=-1, verbose=0, cv=3 )\n",
        "\n",
        "\n",
        "# fitting the model for grid search \n",
        "gsearch_cv.fit(xtrain, ytrain)\n",
        " \n",
        "# print best parameter after tuning \n",
        "print(gsearch_cv.best_params_) \n",
        "grid_predictions = gsearch_cv.predict(xtest) "
      ]
    },
    {
      "cell_type": "code",
      "source": [
        "# param_grid = {'estimator__alpha' : [0.0001,0.001],'estimator__penalty':['l1','l2'], 'estimator__loss':['hinge', 'log_loss', 'log']}"
      ],
      "metadata": {
        "id": "jtjFxDKy5HJb"
      },
      "execution_count": null,
      "outputs": []
    },
    {
      "cell_type": "code",
      "source": [
        "# from sklearn.linear_model import SGDClassifier\n",
        "# base_estimator = OneVsRestClassifier(SGDClassifier(random_state=RANDOM_STATE))\n",
        "# gsearch_cv = GridSearchCV(base_estimator, param_grid, scoring='f1_micro', n_jobs=-1, verbose=0, cv=3 )\n",
        "\n",
        "\n",
        "# # fitting the model for grid search \n",
        "# gsearch_cv.fit(xtrain, ytrain)\n",
        " \n",
        "# # print best parameter after tuning \n",
        "# print(gsearch_cv.best_params_) \n",
        "# print(gsearch_cv.best_score_)\n",
        "# grid_predictions = gsearch_cv.predict(xtest) "
      ],
      "metadata": {
        "colab": {
          "base_uri": "https://localhost:8080/"
        },
        "id": "aDtb_TpJ3JWn",
        "outputId": "adf99347-b17c-47fa-d5b3-c63ed42ea625"
      },
      "execution_count": null,
      "outputs": [
        {
          "output_type": "stream",
          "name": "stdout",
          "text": [
            "{'estimator__alpha': 0.0001, 'estimator__loss': 'hinge', 'estimator__penalty': 'l1'}\n",
            "0.6008024188674492\n"
          ]
        }
      ]
    },
    {
      "cell_type": "markdown",
      "source": [
        "Fit The best estimator"
      ],
      "metadata": {
        "id": "lIs2jml76aDo"
      }
    },
    {
      "cell_type": "code",
      "source": [
        "print(\"F1 score - {}\".format(round(gsearch_cv.best_score_, 3)))\n",
        "print(\"Prescision score - {}\".format(round(precision_score(ytest, grid_predictions, average='micro'),3)))\n",
        "print(\"Recall score - {}\".format(round(recall_score(ytest, grid_predictions, average='micro'),3)))\n",
        "print(\"Hamming Loss - {}\".format(round(hamming_loss(ytest, grid_predictions),3)))\n"
      ],
      "metadata": {
        "colab": {
          "base_uri": "https://localhost:8080/"
        },
        "id": "1CDauU8m1Ew2",
        "outputId": "601aaaed-3cb3-4bb8-858d-a63ea037c6ac"
      },
      "execution_count": null,
      "outputs": [
        {
          "output_type": "stream",
          "name": "stdout",
          "text": [
            "F1 score - 0.601\n",
            "Prescision score - 0.758\n",
            "Recall score - 0.519\n",
            "Hamming Loss - 0.02\n"
          ]
        }
      ]
    },
    {
      "cell_type": "markdown",
      "metadata": {
        "id": "6geu98JarybV"
      },
      "source": [
        "**Cross Validation- Using LinearSVC Classifier**"
      ]
    },
    {
      "cell_type": "code",
      "source": [
        "from yellowbrick.model_selection import CVScores\n",
        "from sklearn.model_selection import KFold\n",
        "from yellowbrick.classifier import ROCAUC , PrecisionRecallCurve\n"
      ],
      "metadata": {
        "id": "yN-8n8C-0a9w"
      },
      "execution_count": null,
      "outputs": []
    },
    {
      "cell_type": "code",
      "source": [
        "# Create a cross-validation strategy\n",
        "cv = KFold(n_splits=10, shuffle=True, random_state=RANDOM_STATE)\n",
        "\n",
        "# Instantiate the classification model and visualizer\n",
        "base_estimator = OneVsRestClassifier(LinearSVC(random_state=RANDOM_STATE, C=1, penalty='l2'))\n",
        "visualizer = CVScores(base_estimator, cv=cv, scoring='f1_micro')\n",
        "\n",
        "visualizer.fit(xtrain, ytrain)       # Fit the data to the visualizer\n",
        "visualizer.show()           # Finalize and render the figure"
      ],
      "metadata": {
        "colab": {
          "base_uri": "https://localhost:8080/",
          "height": 393
        },
        "id": "R9nGS81bgHYl",
        "outputId": "7d2837c5-352d-4400-8004-1ba6e3a62d94"
      },
      "execution_count": null,
      "outputs": [
        {
          "output_type": "display_data",
          "data": {
            "text/plain": [
              "<Figure size 576x396 with 1 Axes>"
            ],
            "image/png": "[encoded data removed]"
          },
          "metadata": {}
        },
        {
          "output_type": "execute_result",
          "data": {
            "text/plain": [
              "<matplotlib.axes._subplots.AxesSubplot at 0x7f8f517eddd0>"
            ]
          },
          "metadata": {},
          "execution_count": 38
        }
      ]
    },
    {
      "cell_type": "markdown",
      "source": [
        "**Precision Recall curve- Using LinearSVC Classifier**"
      ],
      "metadata": {
        "id": "pyxBjO3cBqpY"
      }
    },
    {
      "cell_type": "code",
      "source": [
        " # SVM\n",
        "svmClassifier = OneVsRestClassifier(LinearSVC(random_state= RANDOM_STATE, C=1), n_jobs=-1)\n",
        "svmClassifier.fit(xtrain, ytrain)\n",
        "y_score = svmClassifier.decision_function(xtest)"
      ],
      "metadata": {
        "id": "t5iPj1rxBIqm"
      },
      "execution_count": null,
      "outputs": []
    },
    {
      "cell_type": "code",
      "source": [
        "from sklearn.metrics import precision_recall_curve\n",
        "from sklearn.metrics import average_precision_score\n",
        "n_classes= y.shape[1]\n",
        "# For each class\n",
        "precision = dict()\n",
        "recall = dict()\n",
        "average_precision = dict()\n",
        "for i in range(n_classes):\n",
        "    precision[i], recall[i], _ = precision_recall_curve(ytest[:, i], y_score[:, i])\n",
        "    average_precision[i] = average_precision_score(ytest[:, i], y_score[:, i])\n",
        "\n",
        "# A \"micro-average\": quantifying score on all classes jointly\n",
        "precision[\"micro\"], recall[\"micro\"], _ = precision_recall_curve(\n",
        "    ytest.ravel(), y_score.ravel()\n",
        ")\n",
        "average_precision[\"micro\"] = average_precision_score(ytest, y_score, average=\"micro\")"
      ],
      "metadata": {
        "id": "LGijDP_5DVr5"
      },
      "execution_count": null,
      "outputs": []
    },
    {
      "cell_type": "code",
      "source": [
        "from sklearn.metrics import PrecisionRecallDisplay\n",
        "display = PrecisionRecallDisplay(\n",
        "    recall=recall[\"micro\"],\n",
        "    precision=precision[\"micro\"],\n",
        "    average_precision=average_precision[\"micro\"],\n",
        ")\n",
        "display.plot()\n",
        "_ = display.ax_.set_title(\"Micro-averaged over all classes\")"
      ],
      "metadata": {
        "colab": {
          "base_uri": "https://localhost:8080/",
          "height": 295
        },
        "id": "i7Wy5RmwFAgY",
        "outputId": "e6871d2a-2f47-4ce0-af08-e3d690be3418"
      },
      "execution_count": null,
      "outputs": [
        {
          "output_type": "display_data",
          "data": {
            "text/plain": [
              "<Figure size 432x288 with 1 Axes>"
            ],
            "image/png": "[encoded data removed]"
          },
          "metadata": {
            "needs_background": "light"
          }
        }
      ]
    },
    {
      "cell_type": "code",
      "source": [
        "acc = []\n",
        "acc_tr = []\n",
        "i = 0\n",
        "df = pd.DataFrame(columns = ['c','train_acc','test_acc'])\n",
        "for c in [0.0001,0.001,0.01,0.1,1,10,100,1000,10000]:\n",
        "    svm = OneVsRestClassifier(LinearSVC( C=c))\n",
        "    svm.fit(xtrain, ytrain)\n",
        "   \n",
        "    p_tr = svm.predict(xtrain)\n",
        "    a_tr = f1_score(ytrain, p_tr, average='micro')\n",
        "    \n",
        "    pred = svm.predict(xtest)\n",
        "    a = f1_score(ytest, pred, average='micro')\n",
        "    \n",
        "\n",
        "    acc_tr.append(a_tr)\n",
        "    acc.append(a)\n",
        "    df.loc[i] = [c,a_tr,a]\n",
        "    i=i+1\n",
        "\n",
        "\n",
        "df"
      ],
      "metadata": {
        "colab": {
          "base_uri": "https://localhost:8080/",
          "height": 332
        },
        "id": "U9IG46zh5xyl",
        "outputId": "dbf03caa-248c-41d7-bf83-3d52b945a5fb"
      },
      "execution_count": null,
      "outputs": [
        {
          "output_type": "execute_result",
          "data": {
            "text/plain": [
              "            c  train_acc  test_acc\n",
              "0      0.0001   0.110735  0.111935\n",
              "1      0.0010   0.250055  0.244165\n",
              "2      0.0100   0.464479  0.432013\n",
              "3      0.1000   0.730692  0.588988\n",
              "4      1.0000   0.942287  0.608683\n",
              "5     10.0000   0.993122  0.552398\n",
              "6    100.0000   0.996593  0.530115\n",
              "7   1000.0000   0.994750  0.527260\n",
              "8  10000.0000   0.990747  0.525448"
            ],
            "text/html": [
              "\n",
              "  <div id=\"df-0286a1b5-b17c-4864-bd1b-f09edb8c9427\">\n",
              "    <div class=\"colab-df-container\">\n",
              "      <div>\n",
              "<style scoped>\n",
              "    .dataframe tbody tr th:only-of-type {\n",
              "        vertical-align: middle;\n",
              "    }\n",
              "\n",
              "    .dataframe tbody tr th {\n",
              "        vertical-align: top;\n",
              "    }\n",
              "\n",
              "    .dataframe thead th {\n",
              "        text-align: right;\n",
              "    }\n",
              "</style>\n",
              "<table border=\"1\" class=\"dataframe\">\n",
              "  <thead>\n",
              "    <tr style=\"text-align: right;\">\n",
              "      <th></th>\n",
              "      <th>c</th>\n",
              "      <th>train_acc</th>\n",
              "      <th>test_acc</th>\n",
              "    </tr>\n",
              "  </thead>\n",
              "  <tbody>\n",
              "    <tr>\n",
              "      <th>0</th>\n",
              "      <td>0.0001</td>\n",
              "      <td>0.110735</td>\n",
              "      <td>0.111935</td>\n",
              "    </tr>\n",
              "    <tr>\n",
              "      <th>1</th>\n",
              "      <td>0.0010</td>\n",
              "      <td>0.250055</td>\n",
              "      <td>0.244165</td>\n",
              "    </tr>\n",
              "    <tr>\n",
              "      <th>2</th>\n",
              "      <td>0.0100</td>\n",
              "      <td>0.464479</td>\n",
              "      <td>0.432013</td>\n",
              "    </tr>\n",
              "    <tr>\n",
              "      <th>3</th>\n",
              "      <td>0.1000</td>\n",
              "      <td>0.730692</td>\n",
              "      <td>0.588988</td>\n",
              "    </tr>\n",
              "    <tr>\n",
              "      <th>4</th>\n",
              "      <td>1.0000</td>\n",
              "      <td>0.942287</td>\n",
              "      <td>0.608683</td>\n",
              "    </tr>\n",
              "    <tr>\n",
              "      <th>5</th>\n",
              "      <td>10.0000</td>\n",
              "      <td>0.993122</td>\n",
              "      <td>0.552398</td>\n",
              "    </tr>\n",
              "    <tr>\n",
              "      <th>6</th>\n",
              "      <td>100.0000</td>\n",
              "      <td>0.996593</td>\n",
              "      <td>0.530115</td>\n",
              "    </tr>\n",
              "    <tr>\n",
              "      <th>7</th>\n",
              "      <td>1000.0000</td>\n",
              "      <td>0.994750</td>\n",
              "      <td>0.527260</td>\n",
              "    </tr>\n",
              "    <tr>\n",
              "      <th>8</th>\n",
              "      <td>10000.0000</td>\n",
              "      <td>0.990747</td>\n",
              "      <td>0.525448</td>\n",
              "    </tr>\n",
              "  </tbody>\n",
              "</table>\n",
              "</div>\n",
              "      <button class=\"colab-df-convert\" onclick=\"convertToInteractive('df-0286a1b5-b17c-4864-bd1b-f09edb8c9427')\"\n",
              "              title=\"Convert this dataframe to an interactive table.\"\n",
              "              style=\"display:none;\">\n",
              "        \n",
              "  <svg xmlns=\"http://www.w3.org/2000/svg\" height=\"24px\"viewBox=\"0 0 24 24\"\n",
              "       width=\"24px\">\n",
              "    <path d=\"M0 0h24v24H0V0z\" fill=\"none\"/>\n",
              "    <path d=\"M18.56 5.44l.94 2.06.94-2.06 2.06-.94-2.06-.94-.94-2.06-.94 2.06-2.06.94zm-11 1L8.5 8.5l.94-2.06 2.06-.94-2.06-.94L8.5 2.5l-.94 2.06-2.06.94zm10 10l.94 2.06.94-2.06 2.06-.94-2.06-.94-.94-2.06-.94 2.06-2.06.94z\"/><path d=\"M17.41 7.96l-1.37-1.37c-.4-.4-.92-.59-1.43-.59-.52 0-1.04.2-1.43.59L10.3 9.45l-7.72 7.72c-.78.78-.78 2.05 0 2.83L4 21.41c.39.39.9.59 1.41.59.51 0 1.02-.2 1.41-.59l7.78-7.78 2.81-2.81c.8-.78.8-2.07 0-2.86zM5.41 20L4 18.59l7.72-7.72 1.47 1.35L5.41 20z\"/>\n",
              "  </svg>\n",
              "      </button>\n",
              "      \n",
              "  <style>\n",
              "    .colab-df-container {\n",
              "      display:flex;\n",
              "      flex-wrap:wrap;\n",
              "      gap: 12px;\n",
              "    }\n",
              "\n",
              "    .colab-df-convert {\n",
              "      background-color: #E8F0FE;\n",
              "      border: none;\n",
              "      border-radius: 50%;\n",
              "      cursor: pointer;\n",
              "      display: none;\n",
              "      fill: #1967D2;\n",
              "      height: 32px;\n",
              "      padding: 0 0 0 0;\n",
              "      width: 32px;\n",
              "    }\n",
              "\n",
              "    .colab-df-convert:hover {\n",
              "      background-color: #E2EBFA;\n",
              "      box-shadow: 0px 1px 2px rgba(60, 64, 67, 0.3), 0px 1px 3px 1px rgba(60, 64, 67, 0.15);\n",
              "      fill: #174EA6;\n",
              "    }\n",
              "\n",
              "    [theme=dark] .colab-df-convert {\n",
              "      background-color: #3B4455;\n",
              "      fill: #D2E3FC;\n",
              "    }\n",
              "\n",
              "    [theme=dark] .colab-df-convert:hover {\n",
              "      background-color: #434B5C;\n",
              "      box-shadow: 0px 1px 3px 1px rgba(0, 0, 0, 0.15);\n",
              "      filter: drop-shadow(0px 1px 2px rgba(0, 0, 0, 0.3));\n",
              "      fill: #FFFFFF;\n",
              "    }\n",
              "  </style>\n",
              "\n",
              "      <script>\n",
              "        const buttonEl =\n",
              "          document.querySelector('#df-0286a1b5-b17c-4864-bd1b-f09edb8c9427 button.colab-df-convert');\n",
              "        buttonEl.style.display =\n",
              "          google.colab.kernel.accessAllowed ? 'block' : 'none';\n",
              "\n",
              "        async function convertToInteractive(key) {\n",
              "          const element = document.querySelector('#df-0286a1b5-b17c-4864-bd1b-f09edb8c9427');\n",
              "          const dataTable =\n",
              "            await google.colab.kernel.invokeFunction('convertToInteractive',\n",
              "                                                     [key], {});\n",
              "          if (!dataTable) return;\n",
              "\n",
              "          const docLinkHtml = 'Like what you see? Visit the ' +\n",
              "            '<a target=\"_blank\" href=https://colab.research.google.com/notebooks/data_table.ipynb>data table notebook</a>'\n",
              "            + ' to learn more about interactive tables.';\n",
              "          element.innerHTML = '';\n",
              "          dataTable['output_type'] = 'display_data';\n",
              "          await google.colab.output.renderOutput(dataTable, element);\n",
              "          const docLink = document.createElement('div');\n",
              "          docLink.innerHTML = docLinkHtml;\n",
              "          element.appendChild(docLink);\n",
              "        }\n",
              "      </script>\n",
              "    </div>\n",
              "  </div>\n",
              "  "
            ]
          },
          "metadata": {},
          "execution_count": 18
        }
      ]
    },
    {
      "cell_type": "code",
      "source": [
        "c = [0.0001,0.001,0.01,0.1,1,10,100,1000,10000]\n",
        "\n",
        "plt.subplots(figsize=(10, 5))\n",
        "plt.semilogx(c, acc,'-gD' ,color='red' , label=\"Testing Accuracy\")\n",
        "plt.semilogx(c, acc_tr,'-gD' , label=\"Training Accuracy\")\n",
        "plt.grid(True)\n",
        "plt.xlabel(\"Regularization Parameter C\")\n",
        "plt.ylabel(\"F1 score(micro)\")\n",
        "plt.legend()\n",
        "plt.title('F1 score versus the Regularization Parameter C (log-scale)')\n",
        "plt.show()"
      ],
      "metadata": {
        "colab": {
          "base_uri": "https://localhost:8080/",
          "height": 353
        },
        "id": "kkXg0wAMFK4m",
        "outputId": "98de4aa9-f23a-47f6-af2d-397d1c731b86"
      },
      "execution_count": null,
      "outputs": [
        {
          "output_type": "display_data",
          "data": {
            "text/plain": [
              "<Figure size 720x360 with 1 Axes>"
            ],
            "image/png": "[encoded data removed]"
          },
          "metadata": {
            "needs_background": "light"
          }
        }
      ]
    },
    {
      "cell_type": "markdown",
      "source": [
        "Using multibinarizer inverse function to manually observe categories assigned by the classifier"
      ],
      "metadata": {
        "id": "Z9EVlTD8HsaC"
      }
    },
    {
      "cell_type": "code",
      "source": [
        "# Actual categories\n",
        "print(game_category_df.cleaned_category.iloc[28])\n",
        "\n",
        "\n",
        "# using inverse_transform( ) function along with the MultiLabelBinarizer( ) object to convert the predicted arrays into game categories\n",
        "multilabel_binarizer.inverse_transform(svmPreds)[28]\n"
      ],
      "metadata": {
        "colab": {
          "base_uri": "https://localhost:8080/"
        },
        "id": "f536X-VHIH0N",
        "outputId": "d91bfc3d-1bbf-4820-d659-fb366298bbe6"
      },
      "execution_count": null,
      "outputs": [
        {
          "output_type": "stream",
          "name": "stdout",
          "text": [
            "['Abstract Strategy']\n"
          ]
        },
        {
          "output_type": "execute_result",
          "data": {
            "text/plain": [
              "('Abstract Strategy',)"
            ]
          },
          "metadata": {},
          "execution_count": 28
        }
      ]
    }
  ],
  "metadata": {
    "colab": {
      "collapsed_sections": [],
      "machine_shape": "hm",
      "toc_visible": true,
      "provenance": []
    },
    "gpuClass": "premium",
    "kernelspec": {
      "display_name": "Python 3",
      "name": "python3"
    },
    "language_info": {
      "name": "python"
    }
  },
  "nbformat": 4,
  "nbformat_minor": 0
}