{
 "cells": [
  {
   "cell_type": "code",
   "execution_count": 2,
   "metadata": {
    "id": "q_ehd3yGgmht"
   },
   "outputs": [
    {
     "name": "stderr",
     "output_type": "stream",
     "text": [
      "[nltk_data] Downloading package stopwords to\n",
      "[nltk_data]     /home/kuanchen/nltk_data...\n",
      "[nltk_data]   Package stopwords is already up-to-date!\n",
      "[nltk_data] Downloading package wordnet to /home/kuanchen/nltk_data...\n",
      "[nltk_data]   Package wordnet is already up-to-date!\n",
      "[nltk_data] Downloading package omw-1.4 to /home/kuanchen/nltk_data...\n",
      "[nltk_data]   Package omw-1.4 is already up-to-date!\n"
     ]
    },
    {
     "data": {
      "text/plain": [
       "True"
      ]
     },
     "execution_count": 2,
     "metadata": {},
     "output_type": "execute_result"
    }
   ],
   "source": [
    "RANDOM_SEED=2022\n",
    "import pandas as pd\n",
    "import numpy as np\n",
    "# !pip install fastparquet -q\n",
    "# !pip install tf-nightly\n",
    "from tensorflow import keras\n",
    "from keras.utils import np_utils\n",
    "from keras import optimizers\n",
    "from keras_preprocessing.sequence import pad_sequences\n",
    "from keras.layers import Embedding, LSTM, Dense, Dropout, TimeDistributed\n",
    "from keras.preprocessing.text import Tokenizer\n",
    "from keras.callbacks import EarlyStopping\n",
    "from keras.models import Sequential\n",
    "import tensorflow as tf\n",
    "import string\n",
    "from sklearn.model_selection import train_test_split\n",
    "tf.random.set_seed(RANDOM_SEED)\n",
    "from numpy.random import seed\n",
    "seed(RANDOM_SEED)\n",
    "import nltk\n",
    "from nltk.corpus import stopwords\n",
    "nltk.download('stopwords')\n",
    "nltk.download('wordnet')\n",
    "nltk.download('omw-1.4')"
   ]
  },
  {
   "cell_type": "code",
   "execution_count": 3,
   "metadata": {},
   "outputs": [
    {
     "name": "stdout",
     "output_type": "stream",
     "text": [
      "Your runtime has 201.1 gigabytes of available RAM\n",
      "\n",
      "You are using a high-RAM runtime!\n"
     ]
    }
   ],
   "source": [
    "#A Colab pro environment should have >20Gb of total memory.\n",
    "from psutil import virtual_memory\n",
    "colab_pro = virtual_memory().total / 1e9\n",
    "print('Your runtime has {:.1f} gigabytes of available RAM\\n'.format(colab_pro))\n",
    "\n",
    "if colab_pro < 20:\n",
    "  print('Not using a high-RAM runtime')\n",
    "  # train model with lower settings\n",
    "else:\n",
    "  print('You are using a high-RAM runtime!')\n",
    "  # train model with higher settings"
   ]
  },
  {
   "cell_type": "markdown",
   "metadata": {},
   "source": [
    "### Data Prep"
   ]
  },
  {
   "cell_type": "code",
   "execution_count": 4,
   "metadata": {
    "id": "-f-ykvztj8C7"
   },
   "outputs": [],
   "source": [
    "#read the file\n",
    "game_df = pd.read_parquet('https://github.com/canunj/deconstructing_games/blob/main/ranked_df.parquet.gzip?raw=true', engine='fastparquet')"
   ]
  },
  {
   "cell_type": "code",
   "execution_count": 38,
   "metadata": {
    "colab": {
     "base_uri": "https://localhost:8080/",
     "height": 280
    },
    "id": "XSqNahYEywI1",
    "outputId": "0a098723-4048-4c8d-d58d-1df8a6cc4d6b"
   },
   "outputs": [
    {
     "data": {
      "text/plain": [
       "(17289, 33244)"
      ]
     },
     "metadata": {},
     "output_type": "display_data"
    },
    {
     "data": {
      "text/html": [
       "<div>\n",
       "<style scoped>\n",
       "    .dataframe tbody tr th:only-of-type {\n",
       "        vertical-align: middle;\n",
       "    }\n",
       "\n",
       "    .dataframe tbody tr th {\n",
       "        vertical-align: top;\n",
       "    }\n",
       "\n",
       "    .dataframe thead th {\n",
       "        text-align: right;\n",
       "    }\n",
       "</style>\n",
       "<table border=\"1\" class=\"dataframe\">\n",
       "  <thead>\n",
       "    <tr style=\"text-align: right;\">\n",
       "      <th></th>\n",
       "      <th>name</th>\n",
       "      <th>category</th>\n",
       "      <th>description</th>\n",
       "      <th>publisher</th>\n",
       "    </tr>\n",
       "  </thead>\n",
       "  <tbody>\n",
       "    <tr>\n",
       "      <th>75641</th>\n",
       "      <td>Clash of Steel: A Tactical Card Game of Mediev...</td>\n",
       "      <td>['Card Game', 'Fighting', 'Medieval']</td>\n",
       "      <td>A competitive, low-luck, 15-minute card game f...</td>\n",
       "      <td>[Sigil Stone Publishing]</td>\n",
       "    </tr>\n",
       "    <tr>\n",
       "      <th>41296</th>\n",
       "      <td>GOSU</td>\n",
       "      <td>['Card Game', 'Fantasy']</td>\n",
       "      <td>In a fantasy world dominated by goblins, when ...</td>\n",
       "      <td>[Moonster Games]</td>\n",
       "    </tr>\n",
       "  </tbody>\n",
       "</table>\n",
       "</div>"
      ],
      "text/plain": [
       "                                                    name  \\\n",
       "75641  Clash of Steel: A Tactical Card Game of Mediev...   \n",
       "41296                                               GOSU   \n",
       "\n",
       "                                    category  \\\n",
       "75641  ['Card Game', 'Fighting', 'Medieval']   \n",
       "41296               ['Card Game', 'Fantasy']   \n",
       "\n",
       "                                             description  \\\n",
       "75641  A competitive, low-luck, 15-minute card game f...   \n",
       "41296  In a fantasy world dominated by goblins, when ...   \n",
       "\n",
       "                      publisher  \n",
       "75641  [Sigil Stone Publishing]  \n",
       "41296          [Moonster Games]  "
      ]
     },
     "metadata": {},
     "output_type": "display_data"
    },
    {
     "name": "stdout",
     "output_type": "stream",
     "text": [
      "train size:(16424, 1), test size:(865, 1),\n"
     ]
    }
   ],
   "source": [
    "#filter the games from the year 2000 onwards\n",
    "game_df = game_df[game_df.year>=2000]\n",
    "display(game_df.shape)\n",
    "\n",
    "display(game_df.sample(2)[['name','category','description','publisher']])\n",
    "game_titles=game_df[['name']]\n",
    "game_titles_train, game_titles_test=train_test_split(game_titles,train_size=0.95,random_state=2022)\n",
    "print(f'train size:{game_titles_train.shape}, test size:{game_titles_test.shape},')"
   ]
  },
  {
   "cell_type": "markdown",
   "metadata": {
    "id": "nxpTIKlWl8Zw"
   },
   "source": [
    "### Preprocessing Text"
   ]
  },
  {
   "cell_type": "code",
   "execution_count": 6,
   "metadata": {
    "id": "P9lwQPJKl8rl"
   },
   "outputs": [],
   "source": [
    "def text_process(text):\n",
    "    text=''.join([t for t in text if t not in string.punctuation])\n",
    "    text=text.encode('utf-8').decode('utf-8','strict')\n",
    "    return text.lower()\n",
    "\n",
    "tokenizer=Tokenizer() # make sure to save this tokenizer to be able to load the model\n",
    "def n_gram_vectors(dictionary):\n",
    "  # tokenization\n",
    "    tokenizer.fit_on_texts(dictionary)\n",
    "    unique_words = len(tokenizer.word_index) + 1\n",
    "    \n",
    "  # convert data to token index \n",
    "    token_vectors = []\n",
    "    for text in dictionary:\n",
    "        tokens = tokenizer.texts_to_sequences([text])[0]\n",
    "        for i in range(1, len(tokens)):\n",
    "            n_gram_vector = tokens[:i+1]\n",
    "            token_vectors.append(n_gram_vector)\n",
    "    return token_vectors, unique_words\n",
    "\n",
    "\n",
    "def padded_tokens(token_index):\n",
    "    max_len = max([len(x) for x in token_index])\n",
    "    token_index = np.array(pad_sequences(token_index, maxlen=max_len, padding='pre'))\n",
    "    \n",
    "    X, y = token_index[:,:-1],token_index[:,-1]\n",
    "    y = keras.utils.to_categorical(y, num_classes=unique_words)\n",
    "    return X, y, max_len"
   ]
  },
  {
   "cell_type": "code",
   "execution_count": 7,
   "metadata": {
    "id": "hv20K2nvl9wF"
   },
   "outputs": [],
   "source": [
    "dictionary_cleaned=game_titles_train.name.apply(text_process)\n",
    "token_index,unique_words=n_gram_vectors(dictionary_cleaned)\n",
    "X, y, max_len = padded_tokens(token_index)"
   ]
  },
  {
   "cell_type": "markdown",
   "metadata": {
    "id": "NHCJYoV8mFj5"
   },
   "source": [
    "### RNN Model set up and training"
   ]
  },
  {
   "cell_type": "markdown",
   "metadata": {},
   "source": [
    "#### to load the model"
   ]
  },
  {
   "cell_type": "code",
   "execution_count": 119,
   "metadata": {},
   "outputs": [
    {
     "name": "stdout",
     "output_type": "stream",
     "text": [
      "WARNING:tensorflow:Layer lstm_14 will not use cuDNN kernels since it doesn't meet the criteria. It will use a generic GPU kernel as fallback when running on GPU.\n",
      "WARNING:tensorflow:Layer lstm_15 will not use cuDNN kernels since it doesn't meet the criteria. It will use a generic GPU kernel as fallback when running on GPU.\n",
      "WARNING:tensorflow:Layer lstm_24 will not use cuDNN kernels since it doesn't meet the criteria. It will use a generic GPU kernel as fallback when running on GPU.\n",
      "WARNING:tensorflow:Layer lstm_25 will not use cuDNN kernels since it doesn't meet the criteria. It will use a generic GPU kernel as fallback when running on GPU.\n"
     ]
    }
   ],
   "source": [
    "import pickle\n",
    "generator_model=keras.models.load_model(r'./GeneratorAssets/generative_model1')\n",
    "with open('Generator_Outputs/Models_Assets/generative_tokenizer_v1.pickle', 'rb') as f:\n",
    "    tokenizer = pickle.load(f)\n",
    "    \n",
    "    \n",
    "generator_model=keras.models.load_model(r'./GeneratorAssets/generative_model_v7')\n",
    "with open('generative_tokenizer.pickle', 'rb') as f:\n",
    "    tokenizer = pickle.load(f)"
   ]
  },
  {
   "cell_type": "code",
   "execution_count": 29,
   "metadata": {
    "scrolled": false
   },
   "outputs": [
    {
     "name": "stdout",
     "output_type": "stream",
     "text": [
      "WARNING:tensorflow:Layer lstm_39 will not use cuDNN kernels since it doesn't meet the criteria. It will use a generic GPU kernel as fallback when running on GPU.\n"
     ]
    },
    {
     "name": "stderr",
     "output_type": "stream",
     "text": [
      "WARNING:tensorflow:Layer lstm_39 will not use cuDNN kernels since it doesn't meet the criteria. It will use a generic GPU kernel as fallback when running on GPU.\n"
     ]
    },
    {
     "name": "stdout",
     "output_type": "stream",
     "text": [
      "WARNING:tensorflow:Layer lstm_40 will not use cuDNN kernels since it doesn't meet the criteria. It will use a generic GPU kernel as fallback when running on GPU.\n"
     ]
    },
    {
     "name": "stderr",
     "output_type": "stream",
     "text": [
      "WARNING:tensorflow:Layer lstm_40 will not use cuDNN kernels since it doesn't meet the criteria. It will use a generic GPU kernel as fallback when running on GPU.\n"
     ]
    },
    {
     "name": "stdout",
     "output_type": "stream",
     "text": [
      "Model: \"sequential_8\"\n",
      "_________________________________________________________________\n",
      " Layer (type)                Output Shape              Param #   \n",
      "=================================================================\n",
      " embedding_8 (Embedding)     (None, 16, 10)            139840    \n",
      "                                                                 \n",
      " lstm_39 (LSTM)              (None, 16, 768)           2393088   \n",
      "                                                                 \n",
      " lstm_40 (LSTM)              (None, 768)               4721664   \n",
      "                                                                 \n",
      " dense_7 (Dense)             (None, 13984)             10753696  \n",
      "                                                                 \n",
      "=================================================================\n",
      "Total params: 18,008,288\n",
      "Trainable params: 18,008,288\n",
      "Non-trainable params: 0\n",
      "_________________________________________________________________\n"
     ]
    },
    {
     "data": {
      "text/plain": [
       "None"
      ]
     },
     "metadata": {},
     "output_type": "display_data"
    },
    {
     "name": "stdout",
     "output_type": "stream",
     "text": [
      "Epoch 1/100\n",
      "62/62 [==============================] - 12s 140ms/step - loss: 8.0391 - val_loss: 7.8269\n",
      "Epoch 2/100\n",
      "62/62 [==============================] - 8s 128ms/step - loss: 7.3745 - val_loss: 7.9558\n",
      "Epoch 3/100\n",
      "62/62 [==============================] - 8s 126ms/step - loss: 7.3295 - val_loss: 8.0086\n",
      "Epoch 4/100\n",
      "62/62 [==============================] - 8s 129ms/step - loss: 7.3219 - val_loss: 8.0514\n",
      "Epoch 5/100\n",
      "62/62 [==============================] - 8s 129ms/step - loss: 7.2920 - val_loss: 7.9986\n",
      "Epoch 6/100\n",
      "62/62 [==============================] - 8s 129ms/step - loss: 7.1561 - val_loss: 7.9495\n",
      "Epoch 7/100\n",
      "62/62 [==============================] - 8s 129ms/step - loss: 7.0428 - val_loss: 7.9597\n",
      "Epoch 8/100\n",
      "62/62 [==============================] - 8s 126ms/step - loss: 6.9475 - val_loss: 8.0503\n",
      "Epoch 9/100\n",
      "62/62 [==============================] - 8s 128ms/step - loss: 6.8495 - val_loss: 8.1759\n",
      "Epoch 10/100\n",
      "62/62 [==============================] - 8s 129ms/step - loss: 6.7468 - val_loss: 8.1100\n",
      "Epoch 11/100\n",
      "62/62 [==============================] - 8s 129ms/step - loss: 6.6272 - val_loss: 8.1863\n",
      "Epoch 12/100\n",
      "62/62 [==============================] - 8s 126ms/step - loss: 6.5083 - val_loss: 8.2887\n",
      "Epoch 13/100\n",
      "62/62 [==============================] - 8s 128ms/step - loss: 6.3774 - val_loss: 8.3295\n",
      "Epoch 14/100\n",
      "62/62 [==============================] - 8s 126ms/step - loss: 6.2595 - val_loss: 8.3616\n",
      "Epoch 15/100\n",
      "62/62 [==============================] - 8s 126ms/step - loss: 6.1431 - val_loss: 8.4157\n",
      "Epoch 16/100\n",
      "62/62 [==============================] - 8s 129ms/step - loss: 6.0396 - val_loss: 8.4118\n",
      "Epoch 17/100\n",
      "62/62 [==============================] - 8s 127ms/step - loss: 5.9381 - val_loss: 8.4358\n",
      "Epoch 18/100\n",
      "62/62 [==============================] - 8s 126ms/step - loss: 5.8386 - val_loss: 8.5188\n",
      "Epoch 19/100\n",
      "62/62 [==============================] - 8s 128ms/step - loss: 5.7476 - val_loss: 8.5616\n",
      "Epoch 20/100\n",
      "62/62 [==============================] - 8s 127ms/step - loss: 5.6595 - val_loss: 8.5952\n",
      "Epoch 21/100\n",
      "62/62 [==============================] - 8s 128ms/step - loss: 5.5795 - val_loss: 8.6559\n",
      "Epoch 22/100\n",
      "62/62 [==============================] - 8s 128ms/step - loss: 5.5009 - val_loss: 8.6888\n",
      "Epoch 23/100\n",
      "62/62 [==============================] - 8s 127ms/step - loss: 5.4238 - val_loss: 8.6690\n",
      "Epoch 24/100\n",
      "62/62 [==============================] - 8s 128ms/step - loss: 5.3537 - val_loss: 8.7546\n",
      "Epoch 25/100\n",
      "62/62 [==============================] - 8s 127ms/step - loss: 5.2848 - val_loss: 8.8090\n",
      "Epoch 26/100\n",
      "62/62 [==============================] - 8s 126ms/step - loss: 5.2183 - val_loss: 8.8169\n",
      "Epoch 27/100\n",
      "62/62 [==============================] - 8s 128ms/step - loss: 5.1552 - val_loss: 8.8424\n",
      "Epoch 28/100\n",
      "62/62 [==============================] - 8s 129ms/step - loss: 5.0953 - val_loss: 8.8789\n",
      "Epoch 29/100\n",
      "62/62 [==============================] - 8s 128ms/step - loss: 5.0378 - val_loss: 8.8988\n",
      "Epoch 30/100\n",
      "62/62 [==============================] - 8s 127ms/step - loss: 4.9801 - val_loss: 8.9235\n",
      "Epoch 31/100\n",
      "62/62 [==============================] - 8s 127ms/step - loss: 4.9276 - val_loss: 8.9530\n",
      "Epoch 32/100\n",
      "62/62 [==============================] - 8s 132ms/step - loss: 4.8772 - val_loss: 9.0058\n",
      "Epoch 33/100\n",
      "62/62 [==============================] - 8s 128ms/step - loss: 4.8249 - val_loss: 9.0150\n",
      "Epoch 34/100\n",
      "62/62 [==============================] - 8s 127ms/step - loss: 4.7752 - val_loss: 9.0517\n",
      "Epoch 35/100\n",
      "62/62 [==============================] - 8s 127ms/step - loss: 4.7340 - val_loss: 9.0556\n",
      "Epoch 36/100\n",
      "62/62 [==============================] - 8s 128ms/step - loss: 4.6889 - val_loss: 9.1008\n",
      "Epoch 37/100\n",
      "62/62 [==============================] - 8s 129ms/step - loss: 4.6403 - val_loss: 9.1396\n",
      "Epoch 38/100\n",
      "62/62 [==============================] - 8s 127ms/step - loss: 4.5988 - val_loss: 9.1550\n",
      "Epoch 39/100\n",
      "62/62 [==============================] - 8s 126ms/step - loss: 4.5609 - val_loss: 9.1561\n",
      "Epoch 40/100\n",
      "62/62 [==============================] - 8s 127ms/step - loss: 4.5196 - val_loss: 9.2071\n",
      "Epoch 41/100\n",
      "62/62 [==============================] - 8s 126ms/step - loss: 4.4848 - val_loss: 9.2186\n",
      "Epoch 42/100\n",
      "62/62 [==============================] - 8s 127ms/step - loss: 4.4452 - val_loss: 9.2597\n",
      "Epoch 43/100\n",
      "62/62 [==============================] - 8s 127ms/step - loss: 4.4163 - val_loss: 9.2487\n",
      "Epoch 44/100\n",
      "62/62 [==============================] - 8s 127ms/step - loss: 4.3757 - val_loss: 9.2996\n",
      "Epoch 45/100\n",
      "62/62 [==============================] - 8s 127ms/step - loss: 4.3408 - val_loss: 9.3118\n",
      "Epoch 46/100\n",
      "62/62 [==============================] - 8s 129ms/step - loss: 4.3075 - val_loss: 9.3641\n",
      "Epoch 47/100\n",
      "62/62 [==============================] - 8s 129ms/step - loss: 4.2794 - val_loss: 9.3699\n",
      "Epoch 48/100\n",
      "62/62 [==============================] - 8s 129ms/step - loss: 4.2514 - val_loss: 9.3898\n",
      "Epoch 49/100\n",
      "62/62 [==============================] - 8s 127ms/step - loss: 4.2175 - val_loss: 9.4402\n",
      "Epoch 50/100\n",
      "62/62 [==============================] - 8s 128ms/step - loss: 4.1845 - val_loss: 9.4550\n",
      "Epoch 51/100\n",
      "62/62 [==============================] - 8s 128ms/step - loss: 4.1624 - val_loss: 9.4547\n",
      "Epoch 52/100\n",
      "62/62 [==============================] - 8s 129ms/step - loss: 4.1361 - val_loss: 9.4889\n",
      "Epoch 53/100\n",
      "62/62 [==============================] - 8s 127ms/step - loss: 4.1060 - val_loss: 9.5233\n",
      "Epoch 54/100\n",
      "62/62 [==============================] - 8s 128ms/step - loss: 4.0776 - val_loss: 9.5505\n",
      "Epoch 55/100\n",
      "62/62 [==============================] - 8s 127ms/step - loss: 4.0559 - val_loss: 9.5846\n",
      "Epoch 56/100\n",
      "62/62 [==============================] - 8s 129ms/step - loss: 4.0332 - val_loss: 9.6009\n",
      "Epoch 57/100\n",
      "62/62 [==============================] - 8s 125ms/step - loss: 4.0121 - val_loss: 9.6015\n",
      "Epoch 58/100\n",
      "62/62 [==============================] - 8s 129ms/step - loss: 3.9834 - val_loss: 9.6231\n",
      "Epoch 59/100\n",
      "62/62 [==============================] - 8s 128ms/step - loss: 3.9619 - val_loss: 9.6536\n",
      "Epoch 60/100\n",
      "62/62 [==============================] - 8s 128ms/step - loss: 3.9388 - val_loss: 9.6833\n",
      "Epoch 61/100\n",
      "62/62 [==============================] - 8s 128ms/step - loss: 3.9215 - val_loss: 9.7024\n",
      "Epoch 62/100\n",
      "62/62 [==============================] - 8s 126ms/step - loss: 3.9055 - val_loss: 9.7091\n",
      "Epoch 63/100\n",
      "62/62 [==============================] - 8s 126ms/step - loss: 3.8817 - val_loss: 9.7494\n",
      "Epoch 64/100\n",
      "62/62 [==============================] - 8s 129ms/step - loss: 3.8582 - val_loss: 9.7681\n",
      "Epoch 65/100\n",
      "62/62 [==============================] - 8s 129ms/step - loss: 3.8435 - val_loss: 9.7922\n",
      "Epoch 66/100\n",
      "62/62 [==============================] - 8s 129ms/step - loss: 3.8234 - val_loss: 9.8117\n",
      "Epoch 67/100\n",
      "62/62 [==============================] - 8s 129ms/step - loss: 3.8008 - val_loss: 9.8024\n",
      "Epoch 68/100\n",
      "62/62 [==============================] - 8s 129ms/step - loss: 3.7824 - val_loss: 9.8549\n",
      "Epoch 69/100\n",
      "62/62 [==============================] - 8s 127ms/step - loss: 3.7636 - val_loss: 9.8797\n",
      "Epoch 70/100\n",
      "62/62 [==============================] - 8s 129ms/step - loss: 3.7493 - val_loss: 9.9092\n",
      "Epoch 71/100\n",
      "62/62 [==============================] - 8s 128ms/step - loss: 3.7310 - val_loss: 9.9292\n",
      "Epoch 72/100\n",
      "62/62 [==============================] - 8s 127ms/step - loss: 3.7142 - val_loss: 9.9548\n",
      "Epoch 73/100\n",
      "62/62 [==============================] - 8s 127ms/step - loss: 3.6956 - val_loss: 9.9739\n",
      "Epoch 74/100\n",
      "62/62 [==============================] - 8s 128ms/step - loss: 3.6807 - val_loss: 10.0112\n",
      "Epoch 75/100\n",
      "62/62 [==============================] - 8s 127ms/step - loss: 3.6600 - val_loss: 10.0141\n",
      "Epoch 76/100\n",
      "62/62 [==============================] - 8s 127ms/step - loss: 3.6543 - val_loss: 10.0289\n",
      "Epoch 77/100\n",
      "62/62 [==============================] - 8s 128ms/step - loss: 3.6374 - val_loss: 10.0488\n",
      "Epoch 78/100\n",
      "62/62 [==============================] - 8s 126ms/step - loss: 3.6193 - val_loss: 10.0809\n",
      "Epoch 79/100\n",
      "62/62 [==============================] - 8s 127ms/step - loss: 3.6060 - val_loss: 10.1093\n",
      "Epoch 80/100\n",
      "62/62 [==============================] - 8s 128ms/step - loss: 3.5906 - val_loss: 10.1381\n",
      "Epoch 81/100\n"
     ]
    },
    {
     "name": "stdout",
     "output_type": "stream",
     "text": [
      "62/62 [==============================] - 8s 126ms/step - loss: 3.5801 - val_loss: 10.1395\n",
      "Epoch 82/100\n",
      "62/62 [==============================] - 8s 128ms/step - loss: 3.5623 - val_loss: 10.1659\n",
      "Epoch 83/100\n",
      "62/62 [==============================] - 8s 130ms/step - loss: 3.5499 - val_loss: 10.2029\n",
      "Epoch 84/100\n",
      "62/62 [==============================] - 8s 126ms/step - loss: 3.5356 - val_loss: 10.2302\n",
      "Epoch 85/100\n",
      "62/62 [==============================] - 8s 127ms/step - loss: 3.5194 - val_loss: 10.2445\n",
      "Epoch 86/100\n",
      "62/62 [==============================] - 8s 126ms/step - loss: 3.5135 - val_loss: 10.2604\n",
      "Epoch 87/100\n",
      "62/62 [==============================] - 8s 127ms/step - loss: 3.4945 - val_loss: 10.2745\n",
      "Epoch 88/100\n",
      "62/62 [==============================] - 8s 130ms/step - loss: 3.4838 - val_loss: 10.2914\n",
      "Epoch 89/100\n",
      "62/62 [==============================] - 8s 127ms/step - loss: 3.4727 - val_loss: 10.3318\n",
      "Epoch 90/100\n",
      "62/62 [==============================] - 8s 128ms/step - loss: 3.4657 - val_loss: 10.3485\n",
      "Epoch 91/100\n",
      "62/62 [==============================] - 8s 128ms/step - loss: 3.4488 - val_loss: 10.3769\n",
      "Epoch 92/100\n",
      "62/62 [==============================] - 8s 128ms/step - loss: 3.4311 - val_loss: 10.4005\n",
      "Epoch 93/100\n",
      "62/62 [==============================] - 8s 125ms/step - loss: 3.4275 - val_loss: 10.4343\n",
      "Epoch 94/100\n",
      "62/62 [==============================] - 8s 128ms/step - loss: 3.4114 - val_loss: 10.4488\n",
      "Epoch 95/100\n",
      "62/62 [==============================] - 8s 128ms/step - loss: 3.4051 - val_loss: 10.4577\n",
      "Epoch 96/100\n",
      "62/62 [==============================] - 8s 129ms/step - loss: 3.3872 - val_loss: 10.4880\n",
      "Epoch 97/100\n",
      "62/62 [==============================] - 8s 129ms/step - loss: 3.3796 - val_loss: 10.5018\n",
      "Epoch 98/100\n",
      "62/62 [==============================] - 8s 127ms/step - loss: 3.3708 - val_loss: 10.5364\n",
      "Epoch 99/100\n",
      "62/62 [==============================] - 8s 128ms/step - loss: 3.3603 - val_loss: 10.5441\n",
      "Epoch 100/100\n",
      "62/62 [==============================] - 8s 126ms/step - loss: 3.3545 - val_loss: 10.5612\n"
     ]
    }
   ],
   "source": [
    "input_len = max_len - 1\n",
    "dropout=0.2\n",
    "output_dim=10\n",
    "neurons=128*6\n",
    "epochs=100\n",
    "batch_size=128*4\n",
    "\n",
    "# Neural network set up\n",
    "generator_model = Sequential()\n",
    "#Input Embedding Layer\n",
    "generator_model.add(Embedding(unique_words, output_dim=output_dim, input_length=input_len))\n",
    "\n",
    "#Hidden Layer 1 - LSTM\n",
    "generator_model.add(LSTM(units=neurons,recurrent_dropout=dropout,return_sequences=True))\n",
    "\n",
    "# #Hidden Layer 2 - LSTM\n",
    "# generator_model.add(LSTM(units=neurons,recurrent_dropout=dropout,return_sequences=True))\n",
    "\n",
    "#Hidden Layer 2 - LSTM\n",
    "generator_model.add(LSTM(units=neurons,recurrent_dropout=dropout))\n",
    "\n",
    "lr_schedule=tf.keras.optimizers.Adam(learning_rate=keras.optimizers.schedules.ExponentialDecay(\n",
    "    initial_learning_rate=0.01,\n",
    "    decay_steps=100,\n",
    "    decay_rate=0.01,\n",
    "    staircase=True))\n",
    "\n",
    "#Output Layer\n",
    "generator_model.add(Dense(unique_words, activation='softmax'))\n",
    "generator_model.compile(loss='categorical_crossentropy', \n",
    "                        optimizer='adam'\n",
    "#                       lr_schedule\n",
    "                       )\n",
    "\n",
    "display(generator_model.summary())\n",
    "\n",
    "history=generator_model.fit(X,y,epochs=epochs,validation_split=0.05,batch_size=batch_size)"
   ]
  },
  {
   "cell_type": "markdown",
   "metadata": {},
   "source": [
    "### Model evaluation"
   ]
  },
  {
   "cell_type": "code",
   "execution_count": 150,
   "metadata": {},
   "outputs": [
    {
     "data": {
      "application/vnd.plotly.v1+json": {
       "config": {
        "plotlyServerURL": "https://plot.ly"
       },
       "data": [
        {
         "hovertemplate": "variable=CategoricalCrossEntropyLoss<br>TrainingRound=%{x}<br>value=%{y}<extra></extra>",
         "legendgroup": "CategoricalCrossEntropyLoss",
         "line": {
          "color": "#636efa",
          "dash": "solid"
         },
         "marker": {
          "symbol": "circle"
         },
         "mode": "lines",
         "name": "CategoricalCrossEntropyLoss",
         "orientation": "v",
         "showlegend": true,
         "type": "scatter",
         "x": [
          0,
          1,
          2,
          3,
          4,
          5,
          6,
          7,
          8,
          9,
          10,
          11,
          12,
          13,
          14,
          15,
          16,
          17,
          18,
          19,
          20,
          21,
          22,
          23,
          24,
          25,
          26,
          27,
          28,
          29,
          30,
          31,
          32,
          33,
          34,
          35,
          36,
          37,
          38,
          39,
          40,
          41,
          42,
          43,
          44,
          45,
          46,
          47,
          48,
          49,
          50,
          51,
          52,
          53,
          54,
          55,
          56,
          57,
          58,
          59,
          60,
          61,
          62,
          63,
          64,
          65,
          66,
          67,
          68,
          69,
          70,
          71,
          72,
          73,
          74,
          75,
          76,
          77,
          78,
          79,
          80,
          81,
          82,
          83,
          84,
          85,
          86,
          87,
          88,
          89,
          90,
          91,
          92,
          93,
          94,
          95,
          96,
          97,
          98,
          99
         ],
         "xaxis": "x",
         "y": [
          8.201845169067383,
          7.4249467849731445,
          7.366962909698486,
          7.347589015960693,
          7.2702717781066895,
          7.13600492477417,
          7.040191173553467,
          6.955258846282959,
          6.862114429473877,
          6.756505012512207,
          6.641993045806885,
          6.526988983154297,
          6.411929130554199,
          6.295251369476318,
          6.188652992248535,
          6.088316440582275,
          5.992725372314453,
          5.905221462249756,
          5.814459323883057,
          5.732048034667969,
          5.652832508087158,
          5.582931995391846,
          5.509707450866699,
          5.443619251251221,
          5.37877893447876,
          5.316648960113525,
          5.2596964836120605,
          5.200955867767334,
          5.158241271972656,
          5.103659152984619,
          5.051855564117432,
          5.0037126541137695,
          4.959443092346191,
          4.911747455596924,
          4.868597030639648,
          4.825838088989258,
          4.7855634689331055,
          4.74575138092041,
          4.707785606384277,
          4.673182487487793,
          4.635829925537109,
          4.6016740798950195,
          4.566534996032715,
          4.535863399505615,
          4.501586437225342,
          4.468576908111572,
          4.442412376403809,
          4.414597034454346,
          4.384744644165039,
          4.357157230377197,
          4.326598167419434,
          4.303023815155029,
          4.274905204772949,
          4.252804279327393,
          4.226401329040527,
          4.204005718231201,
          4.183534145355225,
          4.15847110748291,
          4.138631343841553,
          4.11346435546875,
          4.094020843505859,
          4.075402736663818,
          4.050359725952148,
          4.029296875,
          4.009323596954346,
          3.9867963790893555,
          3.9674389362335205,
          3.94899582862854,
          3.930143117904663,
          3.9141128063201904,
          3.895983934402466,
          3.8773279190063477,
          3.8600006103515625,
          3.8390774726867676,
          3.821054220199585,
          3.8071932792663574,
          3.7919602394104004,
          3.7685704231262207,
          3.756110429763794,
          3.7379605770111084,
          3.7202417850494385,
          3.7025506496429443,
          3.678997039794922,
          3.6623950004577637,
          3.6435678005218506,
          3.632343292236328,
          3.6107585430145264,
          3.5931594371795654,
          3.571672201156616,
          3.5579845905303955,
          3.5335841178894043,
          3.516542911529541,
          3.496617317199707,
          3.4785878658294678,
          3.4657280445098877,
          3.44769549369812,
          3.4268367290496826,
          3.4102132320404053,
          3.3930211067199707,
          3.3784217834472656
         ],
         "yaxis": "y"
        },
        {
         "hovertemplate": "variable=ValidationLoss<br>TrainingRound=%{x}<br>value=%{y}<extra></extra>",
         "legendgroup": "ValidationLoss",
         "line": {
          "color": "#EF553B",
          "dash": "solid"
         },
         "marker": {
          "symbol": "circle"
         },
         "mode": "lines",
         "name": "ValidationLoss",
         "orientation": "v",
         "showlegend": true,
         "type": "scatter",
         "x": [
          0,
          1,
          2,
          3,
          4,
          5,
          6,
          7,
          8,
          9,
          10,
          11,
          12,
          13,
          14,
          15,
          16,
          17,
          18,
          19,
          20,
          21,
          22,
          23,
          24,
          25,
          26,
          27,
          28,
          29,
          30,
          31,
          32,
          33,
          34,
          35,
          36,
          37,
          38,
          39,
          40,
          41,
          42,
          43,
          44,
          45,
          46,
          47,
          48,
          49,
          50,
          51,
          52,
          53,
          54,
          55,
          56,
          57,
          58,
          59,
          60,
          61,
          62,
          63,
          64,
          65,
          66,
          67,
          68,
          69,
          70,
          71,
          72,
          73,
          74,
          75,
          76,
          77,
          78,
          79,
          80,
          81,
          82,
          83,
          84,
          85,
          86,
          87,
          88,
          89,
          90,
          91,
          92,
          93,
          94,
          95,
          96,
          97,
          98,
          99
         ],
         "xaxis": "x",
         "y": [
          7.859486103057861,
          7.9641289710998535,
          8.015020370483398,
          8.037469863891602,
          7.982710838317871,
          7.962743759155273,
          7.974246025085449,
          8.036309242248535,
          8.098094940185547,
          8.157759666442871,
          8.161189079284668,
          8.251646995544434,
          8.304988861083984,
          8.361641883850098,
          8.476051330566406,
          8.483051300048828,
          8.529836654663086,
          8.627237319946289,
          8.643399238586426,
          8.69810676574707,
          8.712827682495117,
          8.774078369140625,
          8.756903648376465,
          8.8447265625,
          8.88318157196045,
          8.902536392211914,
          8.935174942016602,
          8.972085952758789,
          8.962425231933594,
          8.997745513916016,
          9.027581214904785,
          9.08328628540039,
          9.104545593261719,
          9.145394325256348,
          9.18135929107666,
          9.198427200317383,
          9.220477104187012,
          9.245965957641602,
          9.263998031616211,
          9.298477172851562,
          9.322261810302734,
          9.362308502197266,
          9.356882095336914,
          9.390353202819824,
          9.433185577392578,
          9.440589904785156,
          9.480242729187012,
          9.493266105651855,
          9.523696899414062,
          9.553091049194336,
          9.570330619812012,
          9.591256141662598,
          9.619682312011719,
          9.653639793395996,
          9.675233840942383,
          9.688868522644043,
          9.708178520202637,
          9.712933540344238,
          9.746597290039062,
          9.781301498413086,
          9.800326347351074,
          9.826972961425781,
          9.867064476013184,
          9.870529174804688,
          9.893441200256348,
          9.908734321594238,
          9.937445640563965,
          9.952190399169922,
          9.976387977600098,
          10.00577449798584,
          10.025737762451172,
          10.056134223937988,
          10.071958541870117,
          10.096546173095703,
          10.118083000183105,
          10.134612083435059,
          10.13564395904541,
          10.18326187133789,
          10.193694114685059,
          10.20587158203125,
          10.231128692626953,
          10.249464988708496,
          10.275533676147461,
          10.297182083129883,
          10.321365356445312,
          10.320708274841309,
          10.34288215637207,
          10.377653121948242,
          10.388238906860352,
          10.422884941101074,
          10.432808876037598,
          10.456292152404785,
          10.488182067871094,
          10.493435859680176,
          10.513591766357422,
          10.54609489440918,
          10.578089714050293,
          10.582235336303711,
          10.602375984191895,
          10.622419357299805
         ],
         "yaxis": "y"
        }
       ],
       "layout": {
        "legend": {
         "title": {
          "text": "variable"
         },
         "tracegroupgap": 0
        },
        "margin": {
         "t": 60
        },
        "template": {
         "data": {
          "bar": [
           {
            "error_x": {
             "color": "#2a3f5f"
            },
            "error_y": {
             "color": "#2a3f5f"
            },
            "marker": {
             "line": {
              "color": "#E5ECF6",
              "width": 0.5
             },
             "pattern": {
              "fillmode": "overlay",
              "size": 10,
              "solidity": 0.2
             }
            },
            "type": "bar"
           }
          ],
          "barpolar": [
           {
            "marker": {
             "line": {
              "color": "#E5ECF6",
              "width": 0.5
             },
             "pattern": {
              "fillmode": "overlay",
              "size": 10,
              "solidity": 0.2
             }
            },
            "type": "barpolar"
           }
          ],
          "carpet": [
           {
            "aaxis": {
             "endlinecolor": "#2a3f5f",
             "gridcolor": "white",
             "linecolor": "white",
             "minorgridcolor": "white",
             "startlinecolor": "#2a3f5f"
            },
            "baxis": {
             "endlinecolor": "#2a3f5f",
             "gridcolor": "white",
             "linecolor": "white",
             "minorgridcolor": "white",
             "startlinecolor": "#2a3f5f"
            },
            "type": "carpet"
           }
          ],
          "choropleth": [
           {
            "colorbar": {
             "outlinewidth": 0,
             "ticks": ""
            },
            "type": "choropleth"
           }
          ],
          "contour": [
           {
            "colorbar": {
             "outlinewidth": 0,
             "ticks": ""
            },
            "colorscale": [
             [
              0,
              "#0d0887"
             ],
             [
              0.1111111111111111,
              "#46039f"
             ],
             [
              0.2222222222222222,
              "#7201a8"
             ],
             [
              0.3333333333333333,
              "#9c179e"
             ],
             [
              0.4444444444444444,
              "#bd3786"
             ],
             [
              0.5555555555555556,
              "#d8576b"
             ],
             [
              0.6666666666666666,
              "#ed7953"
             ],
             [
              0.7777777777777778,
              "#fb9f3a"
             ],
             [
              0.8888888888888888,
              "#fdca26"
             ],
             [
              1,
              "#f0f921"
             ]
            ],
            "type": "contour"
           }
          ],
          "contourcarpet": [
           {
            "colorbar": {
             "outlinewidth": 0,
             "ticks": ""
            },
            "type": "contourcarpet"
           }
          ],
          "heatmap": [
           {
            "colorbar": {
             "outlinewidth": 0,
             "ticks": ""
            },
            "colorscale": [
             [
              0,
              "#0d0887"
             ],
             [
              0.1111111111111111,
              "#46039f"
             ],
             [
              0.2222222222222222,
              "#7201a8"
             ],
             [
              0.3333333333333333,
              "#9c179e"
             ],
             [
              0.4444444444444444,
              "#bd3786"
             ],
             [
              0.5555555555555556,
              "#d8576b"
             ],
             [
              0.6666666666666666,
              "#ed7953"
             ],
             [
              0.7777777777777778,
              "#fb9f3a"
             ],
             [
              0.8888888888888888,
              "#fdca26"
             ],
             [
              1,
              "#f0f921"
             ]
            ],
            "type": "heatmap"
           }
          ],
          "heatmapgl": [
           {
            "colorbar": {
             "outlinewidth": 0,
             "ticks": ""
            },
            "colorscale": [
             [
              0,
              "#0d0887"
             ],
             [
              0.1111111111111111,
              "#46039f"
             ],
             [
              0.2222222222222222,
              "#7201a8"
             ],
             [
              0.3333333333333333,
              "#9c179e"
             ],
             [
              0.4444444444444444,
              "#bd3786"
             ],
             [
              0.5555555555555556,
              "#d8576b"
             ],
             [
              0.6666666666666666,
              "#ed7953"
             ],
             [
              0.7777777777777778,
              "#fb9f3a"
             ],
             [
              0.8888888888888888,
              "#fdca26"
             ],
             [
              1,
              "#f0f921"
             ]
            ],
            "type": "heatmapgl"
           }
          ],
          "histogram": [
           {
            "marker": {
             "pattern": {
              "fillmode": "overlay",
              "size": 10,
              "solidity": 0.2
             }
            },
            "type": "histogram"
           }
          ],
          "histogram2d": [
           {
            "colorbar": {
             "outlinewidth": 0,
             "ticks": ""
            },
            "colorscale": [
             [
              0,
              "#0d0887"
             ],
             [
              0.1111111111111111,
              "#46039f"
             ],
             [
              0.2222222222222222,
              "#7201a8"
             ],
             [
              0.3333333333333333,
              "#9c179e"
             ],
             [
              0.4444444444444444,
              "#bd3786"
             ],
             [
              0.5555555555555556,
              "#d8576b"
             ],
             [
              0.6666666666666666,
              "#ed7953"
             ],
             [
              0.7777777777777778,
              "#fb9f3a"
             ],
             [
              0.8888888888888888,
              "#fdca26"
             ],
             [
              1,
              "#f0f921"
             ]
            ],
            "type": "histogram2d"
           }
          ],
          "histogram2dcontour": [
           {
            "colorbar": {
             "outlinewidth": 0,
             "ticks": ""
            },
            "colorscale": [
             [
              0,
              "#0d0887"
             ],
             [
              0.1111111111111111,
              "#46039f"
             ],
             [
              0.2222222222222222,
              "#7201a8"
             ],
             [
              0.3333333333333333,
              "#9c179e"
             ],
             [
              0.4444444444444444,
              "#bd3786"
             ],
             [
              0.5555555555555556,
              "#d8576b"
             ],
             [
              0.6666666666666666,
              "#ed7953"
             ],
             [
              0.7777777777777778,
              "#fb9f3a"
             ],
             [
              0.8888888888888888,
              "#fdca26"
             ],
             [
              1,
              "#f0f921"
             ]
            ],
            "type": "histogram2dcontour"
           }
          ],
          "mesh3d": [
           {
            "colorbar": {
             "outlinewidth": 0,
             "ticks": ""
            },
            "type": "mesh3d"
           }
          ],
          "parcoords": [
           {
            "line": {
             "colorbar": {
              "outlinewidth": 0,
              "ticks": ""
             }
            },
            "type": "parcoords"
           }
          ],
          "pie": [
           {
            "automargin": true,
            "type": "pie"
           }
          ],
          "scatter": [
           {
            "fillpattern": {
             "fillmode": "overlay",
             "size": 10,
             "solidity": 0.2
            },
            "type": "scatter"
           }
          ],
          "scatter3d": [
           {
            "line": {
             "colorbar": {
              "outlinewidth": 0,
              "ticks": ""
             }
            },
            "marker": {
             "colorbar": {
              "outlinewidth": 0,
              "ticks": ""
             }
            },
            "type": "scatter3d"
           }
          ],
          "scattercarpet": [
           {
            "marker": {
             "colorbar": {
              "outlinewidth": 0,
              "ticks": ""
             }
            },
            "type": "scattercarpet"
           }
          ],
          "scattergeo": [
           {
            "marker": {
             "colorbar": {
              "outlinewidth": 0,
              "ticks": ""
             }
            },
            "type": "scattergeo"
           }
          ],
          "scattergl": [
           {
            "marker": {
             "colorbar": {
              "outlinewidth": 0,
              "ticks": ""
             }
            },
            "type": "scattergl"
           }
          ],
          "scattermapbox": [
           {
            "marker": {
             "colorbar": {
              "outlinewidth": 0,
              "ticks": ""
             }
            },
            "type": "scattermapbox"
           }
          ],
          "scatterpolar": [
           {
            "marker": {
             "colorbar": {
              "outlinewidth": 0,
              "ticks": ""
             }
            },
            "type": "scatterpolar"
           }
          ],
          "scatterpolargl": [
           {
            "marker": {
             "colorbar": {
              "outlinewidth": 0,
              "ticks": ""
             }
            },
            "type": "scatterpolargl"
           }
          ],
          "scatterternary": [
           {
            "marker": {
             "colorbar": {
              "outlinewidth": 0,
              "ticks": ""
             }
            },
            "type": "scatterternary"
           }
          ],
          "surface": [
           {
            "colorbar": {
             "outlinewidth": 0,
             "ticks": ""
            },
            "colorscale": [
             [
              0,
              "#0d0887"
             ],
             [
              0.1111111111111111,
              "#46039f"
             ],
             [
              0.2222222222222222,
              "#7201a8"
             ],
             [
              0.3333333333333333,
              "#9c179e"
             ],
             [
              0.4444444444444444,
              "#bd3786"
             ],
             [
              0.5555555555555556,
              "#d8576b"
             ],
             [
              0.6666666666666666,
              "#ed7953"
             ],
             [
              0.7777777777777778,
              "#fb9f3a"
             ],
             [
              0.8888888888888888,
              "#fdca26"
             ],
             [
              1,
              "#f0f921"
             ]
            ],
            "type": "surface"
           }
          ],
          "table": [
           {
            "cells": {
             "fill": {
              "color": "#EBF0F8"
             },
             "line": {
              "color": "white"
             }
            },
            "header": {
             "fill": {
              "color": "#C8D4E3"
             },
             "line": {
              "color": "white"
             }
            },
            "type": "table"
           }
          ]
         },
         "layout": {
          "annotationdefaults": {
           "arrowcolor": "#2a3f5f",
           "arrowhead": 0,
           "arrowwidth": 1
          },
          "autotypenumbers": "strict",
          "coloraxis": {
           "colorbar": {
            "outlinewidth": 0,
            "ticks": ""
           }
          },
          "colorscale": {
           "diverging": [
            [
             0,
             "#8e0152"
            ],
            [
             0.1,
             "#c51b7d"
            ],
            [
             0.2,
             "#de77ae"
            ],
            [
             0.3,
             "#f1b6da"
            ],
            [
             0.4,
             "#fde0ef"
            ],
            [
             0.5,
             "#f7f7f7"
            ],
            [
             0.6,
             "#e6f5d0"
            ],
            [
             0.7,
             "#b8e186"
            ],
            [
             0.8,
             "#7fbc41"
            ],
            [
             0.9,
             "#4d9221"
            ],
            [
             1,
             "#276419"
            ]
           ],
           "sequential": [
            [
             0,
             "#0d0887"
            ],
            [
             0.1111111111111111,
             "#46039f"
            ],
            [
             0.2222222222222222,
             "#7201a8"
            ],
            [
             0.3333333333333333,
             "#9c179e"
            ],
            [
             0.4444444444444444,
             "#bd3786"
            ],
            [
             0.5555555555555556,
             "#d8576b"
            ],
            [
             0.6666666666666666,
             "#ed7953"
            ],
            [
             0.7777777777777778,
             "#fb9f3a"
            ],
            [
             0.8888888888888888,
             "#fdca26"
            ],
            [
             1,
             "#f0f921"
            ]
           ],
           "sequentialminus": [
            [
             0,
             "#0d0887"
            ],
            [
             0.1111111111111111,
             "#46039f"
            ],
            [
             0.2222222222222222,
             "#7201a8"
            ],
            [
             0.3333333333333333,
             "#9c179e"
            ],
            [
             0.4444444444444444,
             "#bd3786"
            ],
            [
             0.5555555555555556,
             "#d8576b"
            ],
            [
             0.6666666666666666,
             "#ed7953"
            ],
            [
             0.7777777777777778,
             "#fb9f3a"
            ],
            [
             0.8888888888888888,
             "#fdca26"
            ],
            [
             1,
             "#f0f921"
            ]
           ]
          },
          "colorway": [
           "#636efa",
           "#EF553B",
           "#00cc96",
           "#ab63fa",
           "#FFA15A",
           "#19d3f3",
           "#FF6692",
           "#B6E880",
           "#FF97FF",
           "#FECB52"
          ],
          "font": {
           "color": "#2a3f5f"
          },
          "geo": {
           "bgcolor": "white",
           "lakecolor": "white",
           "landcolor": "#E5ECF6",
           "showlakes": true,
           "showland": true,
           "subunitcolor": "white"
          },
          "hoverlabel": {
           "align": "left"
          },
          "hovermode": "closest",
          "mapbox": {
           "style": "light"
          },
          "paper_bgcolor": "white",
          "plot_bgcolor": "#E5ECF6",
          "polar": {
           "angularaxis": {
            "gridcolor": "white",
            "linecolor": "white",
            "ticks": ""
           },
           "bgcolor": "#E5ECF6",
           "radialaxis": {
            "gridcolor": "white",
            "linecolor": "white",
            "ticks": ""
           }
          },
          "scene": {
           "xaxis": {
            "backgroundcolor": "#E5ECF6",
            "gridcolor": "white",
            "gridwidth": 2,
            "linecolor": "white",
            "showbackground": true,
            "ticks": "",
            "zerolinecolor": "white"
           },
           "yaxis": {
            "backgroundcolor": "#E5ECF6",
            "gridcolor": "white",
            "gridwidth": 2,
            "linecolor": "white",
            "showbackground": true,
            "ticks": "",
            "zerolinecolor": "white"
           },
           "zaxis": {
            "backgroundcolor": "#E5ECF6",
            "gridcolor": "white",
            "gridwidth": 2,
            "linecolor": "white",
            "showbackground": true,
            "ticks": "",
            "zerolinecolor": "white"
           }
          },
          "shapedefaults": {
           "line": {
            "color": "#2a3f5f"
           }
          },
          "ternary": {
           "aaxis": {
            "gridcolor": "white",
            "linecolor": "white",
            "ticks": ""
           },
           "baxis": {
            "gridcolor": "white",
            "linecolor": "white",
            "ticks": ""
           },
           "bgcolor": "#E5ECF6",
           "caxis": {
            "gridcolor": "white",
            "linecolor": "white",
            "ticks": ""
           }
          },
          "title": {
           "x": 0.05
          },
          "xaxis": {
           "automargin": true,
           "gridcolor": "white",
           "linecolor": "white",
           "ticks": "",
           "title": {
            "standoff": 15
           },
           "zerolinecolor": "white",
           "zerolinewidth": 2
          },
          "yaxis": {
           "automargin": true,
           "gridcolor": "white",
           "linecolor": "white",
           "ticks": "",
           "title": {
            "standoff": 15
           },
           "zerolinecolor": "white",
           "zerolinewidth": 2
          }
         }
        },
        "title": {
         "text": "Model1 Training losses performance over 100 rounds <br> (recurrent) dropout=0.2, 512 nodes, 2 layers, adam optimizer"
        },
        "xaxis": {
         "anchor": "y",
         "domain": [
          0,
          1
         ],
         "title": {
          "text": "Training Round"
         }
        },
        "yaxis": {
         "anchor": "x",
         "domain": [
          0,
          1
         ],
         "title": {
          "text": "Loss Values"
         }
        }
       }
      },
      "text/html": [
       "<div>                            <div id=\"aa011888-0ff9-4b45-ace1-2c49e4be056b\" class=\"plotly-graph-div\" style=\"height:525px; width:100%;\"></div>            <script type=\"text/javascript\">                require([\"plotly\"], function(Plotly) {                    window.PLOTLYENV=window.PLOTLYENV || {};                                    if (document.getElementById(\"aa011888-0ff9-4b45-ace1-2c49e4be056b\")) {                    Plotly.newPlot(                        \"aa011888-0ff9-4b45-ace1-2c49e4be056b\",                        [{\"hovertemplate\":\"variable=CategoricalCrossEntropyLoss<br>TrainingRound=%{x}<br>value=%{y}<extra></extra>\",\"legendgroup\":\"CategoricalCrossEntropyLoss\",\"line\":{\"color\":\"#636efa\",\"dash\":\"solid\"},\"marker\":{\"symbol\":\"circle\"},\"mode\":\"lines\",\"name\":\"CategoricalCrossEntropyLoss\",\"orientation\":\"v\",\"showlegend\":true,\"x\":[0,1,2,3,4,5,6,7,8,9,10,11,12,13,14,15,16,17,18,19,20,21,22,23,24,25,26,27,28,29,30,31,32,33,34,35,36,37,38,39,40,41,42,43,44,45,46,47,48,49,50,51,52,53,54,55,56,57,58,59,60,61,62,63,64,65,66,67,68,69,70,71,72,73,74,75,76,77,78,79,80,81,82,83,84,85,86,87,88,89,90,91,92,93,94,95,96,97,98,99],\"xaxis\":\"x\",\"y\":[8.201845169067383,7.4249467849731445,7.366962909698486,7.347589015960693,7.2702717781066895,7.13600492477417,7.040191173553467,6.955258846282959,6.862114429473877,6.756505012512207,6.641993045806885,6.526988983154297,6.411929130554199,6.295251369476318,6.188652992248535,6.088316440582275,5.992725372314453,5.905221462249756,5.814459323883057,5.732048034667969,5.652832508087158,5.582931995391846,5.509707450866699,5.443619251251221,5.37877893447876,5.316648960113525,5.2596964836120605,5.200955867767334,5.158241271972656,5.103659152984619,5.051855564117432,5.0037126541137695,4.959443092346191,4.911747455596924,4.868597030639648,4.825838088989258,4.7855634689331055,4.74575138092041,4.707785606384277,4.673182487487793,4.635829925537109,4.6016740798950195,4.566534996032715,4.535863399505615,4.501586437225342,4.468576908111572,4.442412376403809,4.414597034454346,4.384744644165039,4.357157230377197,4.326598167419434,4.303023815155029,4.274905204772949,4.252804279327393,4.226401329040527,4.204005718231201,4.183534145355225,4.15847110748291,4.138631343841553,4.11346435546875,4.094020843505859,4.075402736663818,4.050359725952148,4.029296875,4.009323596954346,3.9867963790893555,3.9674389362335205,3.94899582862854,3.930143117904663,3.9141128063201904,3.895983934402466,3.8773279190063477,3.8600006103515625,3.8390774726867676,3.821054220199585,3.8071932792663574,3.7919602394104004,3.7685704231262207,3.756110429763794,3.7379605770111084,3.7202417850494385,3.7025506496429443,3.678997039794922,3.6623950004577637,3.6435678005218506,3.632343292236328,3.6107585430145264,3.5931594371795654,3.571672201156616,3.5579845905303955,3.5335841178894043,3.516542911529541,3.496617317199707,3.4785878658294678,3.4657280445098877,3.44769549369812,3.4268367290496826,3.4102132320404053,3.3930211067199707,3.3784217834472656],\"yaxis\":\"y\",\"type\":\"scatter\"},{\"hovertemplate\":\"variable=ValidationLoss<br>TrainingRound=%{x}<br>value=%{y}<extra></extra>\",\"legendgroup\":\"ValidationLoss\",\"line\":{\"color\":\"#EF553B\",\"dash\":\"solid\"},\"marker\":{\"symbol\":\"circle\"},\"mode\":\"lines\",\"name\":\"ValidationLoss\",\"orientation\":\"v\",\"showlegend\":true,\"x\":[0,1,2,3,4,5,6,7,8,9,10,11,12,13,14,15,16,17,18,19,20,21,22,23,24,25,26,27,28,29,30,31,32,33,34,35,36,37,38,39,40,41,42,43,44,45,46,47,48,49,50,51,52,53,54,55,56,57,58,59,60,61,62,63,64,65,66,67,68,69,70,71,72,73,74,75,76,77,78,79,80,81,82,83,84,85,86,87,88,89,90,91,92,93,94,95,96,97,98,99],\"xaxis\":\"x\",\"y\":[7.859486103057861,7.9641289710998535,8.015020370483398,8.037469863891602,7.982710838317871,7.962743759155273,7.974246025085449,8.036309242248535,8.098094940185547,8.157759666442871,8.161189079284668,8.251646995544434,8.304988861083984,8.361641883850098,8.476051330566406,8.483051300048828,8.529836654663086,8.627237319946289,8.643399238586426,8.69810676574707,8.712827682495117,8.774078369140625,8.756903648376465,8.8447265625,8.88318157196045,8.902536392211914,8.935174942016602,8.972085952758789,8.962425231933594,8.997745513916016,9.027581214904785,9.08328628540039,9.104545593261719,9.145394325256348,9.18135929107666,9.198427200317383,9.220477104187012,9.245965957641602,9.263998031616211,9.298477172851562,9.322261810302734,9.362308502197266,9.356882095336914,9.390353202819824,9.433185577392578,9.440589904785156,9.480242729187012,9.493266105651855,9.523696899414062,9.553091049194336,9.570330619812012,9.591256141662598,9.619682312011719,9.653639793395996,9.675233840942383,9.688868522644043,9.708178520202637,9.712933540344238,9.746597290039062,9.781301498413086,9.800326347351074,9.826972961425781,9.867064476013184,9.870529174804688,9.893441200256348,9.908734321594238,9.937445640563965,9.952190399169922,9.976387977600098,10.00577449798584,10.025737762451172,10.056134223937988,10.071958541870117,10.096546173095703,10.118083000183105,10.134612083435059,10.13564395904541,10.18326187133789,10.193694114685059,10.20587158203125,10.231128692626953,10.249464988708496,10.275533676147461,10.297182083129883,10.321365356445312,10.320708274841309,10.34288215637207,10.377653121948242,10.388238906860352,10.422884941101074,10.432808876037598,10.456292152404785,10.488182067871094,10.493435859680176,10.513591766357422,10.54609489440918,10.578089714050293,10.582235336303711,10.602375984191895,10.622419357299805],\"yaxis\":\"y\",\"type\":\"scatter\"}],                        {\"template\":{\"data\":{\"histogram2dcontour\":[{\"type\":\"histogram2dcontour\",\"colorbar\":{\"outlinewidth\":0,\"ticks\":\"\"},\"colorscale\":[[0.0,\"#0d0887\"],[0.1111111111111111,\"#46039f\"],[0.2222222222222222,\"#7201a8\"],[0.3333333333333333,\"#9c179e\"],[0.4444444444444444,\"#bd3786\"],[0.5555555555555556,\"#d8576b\"],[0.6666666666666666,\"#ed7953\"],[0.7777777777777778,\"#fb9f3a\"],[0.8888888888888888,\"#fdca26\"],[1.0,\"#f0f921\"]]}],\"choropleth\":[{\"type\":\"choropleth\",\"colorbar\":{\"outlinewidth\":0,\"ticks\":\"\"}}],\"histogram2d\":[{\"type\":\"histogram2d\",\"colorbar\":{\"outlinewidth\":0,\"ticks\":\"\"},\"colorscale\":[[0.0,\"#0d0887\"],[0.1111111111111111,\"#46039f\"],[0.2222222222222222,\"#7201a8\"],[0.3333333333333333,\"#9c179e\"],[0.4444444444444444,\"#bd3786\"],[0.5555555555555556,\"#d8576b\"],[0.6666666666666666,\"#ed7953\"],[0.7777777777777778,\"#fb9f3a\"],[0.8888888888888888,\"#fdca26\"],[1.0,\"#f0f921\"]]}],\"heatmap\":[{\"type\":\"heatmap\",\"colorbar\":{\"outlinewidth\":0,\"ticks\":\"\"},\"colorscale\":[[0.0,\"#0d0887\"],[0.1111111111111111,\"#46039f\"],[0.2222222222222222,\"#7201a8\"],[0.3333333333333333,\"#9c179e\"],[0.4444444444444444,\"#bd3786\"],[0.5555555555555556,\"#d8576b\"],[0.6666666666666666,\"#ed7953\"],[0.7777777777777778,\"#fb9f3a\"],[0.8888888888888888,\"#fdca26\"],[1.0,\"#f0f921\"]]}],\"heatmapgl\":[{\"type\":\"heatmapgl\",\"colorbar\":{\"outlinewidth\":0,\"ticks\":\"\"},\"colorscale\":[[0.0,\"#0d0887\"],[0.1111111111111111,\"#46039f\"],[0.2222222222222222,\"#7201a8\"],[0.3333333333333333,\"#9c179e\"],[0.4444444444444444,\"#bd3786\"],[0.5555555555555556,\"#d8576b\"],[0.6666666666666666,\"#ed7953\"],[0.7777777777777778,\"#fb9f3a\"],[0.8888888888888888,\"#fdca26\"],[1.0,\"#f0f921\"]]}],\"contourcarpet\":[{\"type\":\"contourcarpet\",\"colorbar\":{\"outlinewidth\":0,\"ticks\":\"\"}}],\"contour\":[{\"type\":\"contour\",\"colorbar\":{\"outlinewidth\":0,\"ticks\":\"\"},\"colorscale\":[[0.0,\"#0d0887\"],[0.1111111111111111,\"#46039f\"],[0.2222222222222222,\"#7201a8\"],[0.3333333333333333,\"#9c179e\"],[0.4444444444444444,\"#bd3786\"],[0.5555555555555556,\"#d8576b\"],[0.6666666666666666,\"#ed7953\"],[0.7777777777777778,\"#fb9f3a\"],[0.8888888888888888,\"#fdca26\"],[1.0,\"#f0f921\"]]}],\"surface\":[{\"type\":\"surface\",\"colorbar\":{\"outlinewidth\":0,\"ticks\":\"\"},\"colorscale\":[[0.0,\"#0d0887\"],[0.1111111111111111,\"#46039f\"],[0.2222222222222222,\"#7201a8\"],[0.3333333333333333,\"#9c179e\"],[0.4444444444444444,\"#bd3786\"],[0.5555555555555556,\"#d8576b\"],[0.6666666666666666,\"#ed7953\"],[0.7777777777777778,\"#fb9f3a\"],[0.8888888888888888,\"#fdca26\"],[1.0,\"#f0f921\"]]}],\"mesh3d\":[{\"type\":\"mesh3d\",\"colorbar\":{\"outlinewidth\":0,\"ticks\":\"\"}}],\"scatter\":[{\"fillpattern\":{\"fillmode\":\"overlay\",\"size\":10,\"solidity\":0.2},\"type\":\"scatter\"}],\"parcoords\":[{\"type\":\"parcoords\",\"line\":{\"colorbar\":{\"outlinewidth\":0,\"ticks\":\"\"}}}],\"scatterpolargl\":[{\"type\":\"scatterpolargl\",\"marker\":{\"colorbar\":{\"outlinewidth\":0,\"ticks\":\"\"}}}],\"bar\":[{\"error_x\":{\"color\":\"#2a3f5f\"},\"error_y\":{\"color\":\"#2a3f5f\"},\"marker\":{\"line\":{\"color\":\"#E5ECF6\",\"width\":0.5},\"pattern\":{\"fillmode\":\"overlay\",\"size\":10,\"solidity\":0.2}},\"type\":\"bar\"}],\"scattergeo\":[{\"type\":\"scattergeo\",\"marker\":{\"colorbar\":{\"outlinewidth\":0,\"ticks\":\"\"}}}],\"scatterpolar\":[{\"type\":\"scatterpolar\",\"marker\":{\"colorbar\":{\"outlinewidth\":0,\"ticks\":\"\"}}}],\"histogram\":[{\"marker\":{\"pattern\":{\"fillmode\":\"overlay\",\"size\":10,\"solidity\":0.2}},\"type\":\"histogram\"}],\"scattergl\":[{\"type\":\"scattergl\",\"marker\":{\"colorbar\":{\"outlinewidth\":0,\"ticks\":\"\"}}}],\"scatter3d\":[{\"type\":\"scatter3d\",\"line\":{\"colorbar\":{\"outlinewidth\":0,\"ticks\":\"\"}},\"marker\":{\"colorbar\":{\"outlinewidth\":0,\"ticks\":\"\"}}}],\"scattermapbox\":[{\"type\":\"scattermapbox\",\"marker\":{\"colorbar\":{\"outlinewidth\":0,\"ticks\":\"\"}}}],\"scatterternary\":[{\"type\":\"scatterternary\",\"marker\":{\"colorbar\":{\"outlinewidth\":0,\"ticks\":\"\"}}}],\"scattercarpet\":[{\"type\":\"scattercarpet\",\"marker\":{\"colorbar\":{\"outlinewidth\":0,\"ticks\":\"\"}}}],\"carpet\":[{\"aaxis\":{\"endlinecolor\":\"#2a3f5f\",\"gridcolor\":\"white\",\"linecolor\":\"white\",\"minorgridcolor\":\"white\",\"startlinecolor\":\"#2a3f5f\"},\"baxis\":{\"endlinecolor\":\"#2a3f5f\",\"gridcolor\":\"white\",\"linecolor\":\"white\",\"minorgridcolor\":\"white\",\"startlinecolor\":\"#2a3f5f\"},\"type\":\"carpet\"}],\"table\":[{\"cells\":{\"fill\":{\"color\":\"#EBF0F8\"},\"line\":{\"color\":\"white\"}},\"header\":{\"fill\":{\"color\":\"#C8D4E3\"},\"line\":{\"color\":\"white\"}},\"type\":\"table\"}],\"barpolar\":[{\"marker\":{\"line\":{\"color\":\"#E5ECF6\",\"width\":0.5},\"pattern\":{\"fillmode\":\"overlay\",\"size\":10,\"solidity\":0.2}},\"type\":\"barpolar\"}],\"pie\":[{\"automargin\":true,\"type\":\"pie\"}]},\"layout\":{\"autotypenumbers\":\"strict\",\"colorway\":[\"#636efa\",\"#EF553B\",\"#00cc96\",\"#ab63fa\",\"#FFA15A\",\"#19d3f3\",\"#FF6692\",\"#B6E880\",\"#FF97FF\",\"#FECB52\"],\"font\":{\"color\":\"#2a3f5f\"},\"hovermode\":\"closest\",\"hoverlabel\":{\"align\":\"left\"},\"paper_bgcolor\":\"white\",\"plot_bgcolor\":\"#E5ECF6\",\"polar\":{\"bgcolor\":\"#E5ECF6\",\"angularaxis\":{\"gridcolor\":\"white\",\"linecolor\":\"white\",\"ticks\":\"\"},\"radialaxis\":{\"gridcolor\":\"white\",\"linecolor\":\"white\",\"ticks\":\"\"}},\"ternary\":{\"bgcolor\":\"#E5ECF6\",\"aaxis\":{\"gridcolor\":\"white\",\"linecolor\":\"white\",\"ticks\":\"\"},\"baxis\":{\"gridcolor\":\"white\",\"linecolor\":\"white\",\"ticks\":\"\"},\"caxis\":{\"gridcolor\":\"white\",\"linecolor\":\"white\",\"ticks\":\"\"}},\"coloraxis\":{\"colorbar\":{\"outlinewidth\":0,\"ticks\":\"\"}},\"colorscale\":{\"sequential\":[[0.0,\"#0d0887\"],[0.1111111111111111,\"#46039f\"],[0.2222222222222222,\"#7201a8\"],[0.3333333333333333,\"#9c179e\"],[0.4444444444444444,\"#bd3786\"],[0.5555555555555556,\"#d8576b\"],[0.6666666666666666,\"#ed7953\"],[0.7777777777777778,\"#fb9f3a\"],[0.8888888888888888,\"#fdca26\"],[1.0,\"#f0f921\"]],\"sequentialminus\":[[0.0,\"#0d0887\"],[0.1111111111111111,\"#46039f\"],[0.2222222222222222,\"#7201a8\"],[0.3333333333333333,\"#9c179e\"],[0.4444444444444444,\"#bd3786\"],[0.5555555555555556,\"#d8576b\"],[0.6666666666666666,\"#ed7953\"],[0.7777777777777778,\"#fb9f3a\"],[0.8888888888888888,\"#fdca26\"],[1.0,\"#f0f921\"]],\"diverging\":[[0,\"#8e0152\"],[0.1,\"#c51b7d\"],[0.2,\"#de77ae\"],[0.3,\"#f1b6da\"],[0.4,\"#fde0ef\"],[0.5,\"#f7f7f7\"],[0.6,\"#e6f5d0\"],[0.7,\"#b8e186\"],[0.8,\"#7fbc41\"],[0.9,\"#4d9221\"],[1,\"#276419\"]]},\"xaxis\":{\"gridcolor\":\"white\",\"linecolor\":\"white\",\"ticks\":\"\",\"title\":{\"standoff\":15},\"zerolinecolor\":\"white\",\"automargin\":true,\"zerolinewidth\":2},\"yaxis\":{\"gridcolor\":\"white\",\"linecolor\":\"white\",\"ticks\":\"\",\"title\":{\"standoff\":15},\"zerolinecolor\":\"white\",\"automargin\":true,\"zerolinewidth\":2},\"scene\":{\"xaxis\":{\"backgroundcolor\":\"#E5ECF6\",\"gridcolor\":\"white\",\"linecolor\":\"white\",\"showbackground\":true,\"ticks\":\"\",\"zerolinecolor\":\"white\",\"gridwidth\":2},\"yaxis\":{\"backgroundcolor\":\"#E5ECF6\",\"gridcolor\":\"white\",\"linecolor\":\"white\",\"showbackground\":true,\"ticks\":\"\",\"zerolinecolor\":\"white\",\"gridwidth\":2},\"zaxis\":{\"backgroundcolor\":\"#E5ECF6\",\"gridcolor\":\"white\",\"linecolor\":\"white\",\"showbackground\":true,\"ticks\":\"\",\"zerolinecolor\":\"white\",\"gridwidth\":2}},\"shapedefaults\":{\"line\":{\"color\":\"#2a3f5f\"}},\"annotationdefaults\":{\"arrowcolor\":\"#2a3f5f\",\"arrowhead\":0,\"arrowwidth\":1},\"geo\":{\"bgcolor\":\"white\",\"landcolor\":\"#E5ECF6\",\"subunitcolor\":\"white\",\"showland\":true,\"showlakes\":true,\"lakecolor\":\"white\"},\"title\":{\"x\":0.05},\"mapbox\":{\"style\":\"light\"}}},\"xaxis\":{\"anchor\":\"y\",\"domain\":[0.0,1.0],\"title\":{\"text\":\"Training Round\"}},\"yaxis\":{\"anchor\":\"x\",\"domain\":[0.0,1.0],\"title\":{\"text\":\"Loss Values\"}},\"legend\":{\"title\":{\"text\":\"variable\"},\"tracegroupgap\":0},\"margin\":{\"t\":60},\"title\":{\"text\":\"Model1 Training losses performance over 100 rounds <br> (recurrent) dropout=0.2, 512 nodes, 2 layers, adam optimizer\"}},                        {\"responsive\": true}                    ).then(function(){\n",
       "                            \n",
       "var gd = document.getElementById('aa011888-0ff9-4b45-ace1-2c49e4be056b');\n",
       "var x = new MutationObserver(function (mutations, observer) {{\n",
       "        var display = window.getComputedStyle(gd).display;\n",
       "        if (!display || display === 'none') {{\n",
       "            console.log([gd, 'removed!']);\n",
       "            Plotly.purge(gd);\n",
       "            observer.disconnect();\n",
       "        }}\n",
       "}});\n",
       "\n",
       "// Listen for the removal of the full notebook cells\n",
       "var notebookContainer = gd.closest('#notebook-container');\n",
       "if (notebookContainer) {{\n",
       "    x.observe(notebookContainer, {childList: true});\n",
       "}}\n",
       "\n",
       "// Listen for the clearing of the current output cell\n",
       "var outputEl = gd.closest('.output');\n",
       "if (outputEl) {{\n",
       "    x.observe(outputEl, {childList: true});\n",
       "}}\n",
       "\n",
       "                        })                };                });            </script>        </div>"
      ]
     },
     "metadata": {},
     "output_type": "display_data"
    }
   ],
   "source": [
    "import plotly.express as px\n",
    "model_history=pd.DataFrame(history.history).reset_index()\n",
    "model_history.columns=['TrainingRound','CategoricalCrossEntropyLoss','ValidationLoss']\n",
    "fig=px.line(model_history,x='TrainingRound',y=model_history.columns[1:])\n",
    "fig.update_layout(title='Model1 Training losses performance over 100 rounds <br> (recurrent) dropout=0.2, 512 nodes, 2 layers, adam optimizer',\n",
    "                   xaxis_title='Training Round',\n",
    "                   yaxis_title='Loss Values')\n",
    "fig.show()\n",
    "model_history.to_csv('evaluation/model1_performance.csv',index=False)"
   ]
  },
  {
   "cell_type": "markdown",
   "metadata": {
    "id": "WBliWOpOmMP0"
   },
   "source": [
    "## Examine Title Generator Output"
   ]
  },
  {
   "cell_type": "code",
   "execution_count": 14,
   "metadata": {
    "id": "MfpKkfbBmMsV"
   },
   "outputs": [],
   "source": [
    "def text_generator(start_text, n_next_words, model, max_len):\n",
    "    for _ in range(n_next_words):\n",
    "        token_list = tokenizer.texts_to_sequences([start_text])[0]\n",
    "        token_list = pad_sequences([token_list], maxlen=max_len-1, padding='pre')\n",
    "        generated = np.argmax(model.predict(token_list), axis=-1)\n",
    "\n",
    "        output_word = \"\"\n",
    "        for word,index in tokenizer.word_index.items():\n",
    "            if index == generated:\n",
    "                output_word = word\n",
    "                break\n",
    "        start_text += \" \"+output_word\n",
    "    return start_text.title()\n",
    "\n",
    "def generate_title(start_text):\n",
    "    \n",
    "    def text_generator(start_text, n_next_words, model, max_len):\n",
    "        for _ in range(n_next_words):\n",
    "            token_list = tokenizer.texts_to_sequences([start_text])[0]\n",
    "            token_list = pad_sequences([token_list], maxlen=max_len-1, padding='pre')\n",
    "            generated = np.argmax(model.predict(token_list), axis=-1)\n",
    "\n",
    "            generated_word = \"\"\n",
    "            for word,index in tokenizer.word_index.items():\n",
    "                if index==generated:\n",
    "                    generated_word = word\n",
    "                    break\n",
    "            start_text+=\" \"+generated_word\n",
    "        return start_text.title()\n",
    "    \n",
    "    start_text=start_text.lower()\n",
    "    text_split=start_text.split()\n",
    "    stop_words=set(stopwords.words('english'))\n",
    "    stop_words.update(['–','vs','card','board'] + list(set(stopwords.words('spanish'))))\n",
    "    if text_split[0] in stop_words:\n",
    "        gen_title=text_generator(\" \".join(text_split[:2]), len(text_split), generator_model, max_len)\n",
    "    else:\n",
    "        gen_title=text_generator(text_split[0], len(text_split), generator_model, max_len)\n",
    "        \n",
    "    return gen_title"
   ]
  },
  {
   "cell_type": "code",
   "execution_count": 99,
   "metadata": {},
   "outputs": [
    {
     "name": "stdout",
     "output_type": "stream",
     "text": [
      "Board Game Cafe Frenzy The Card Game – The Age Of\n",
      "Conan The Gathering – Duel Decks Merfolk Vs Inventors\n",
      "United States Dice Masters Justice The Deserted Lighthouse The Gallipoli Campaign\n",
      "Conquer Dice Game Rebirth Of The Righteous – The\n",
      "The Story Of Life Pirates Of The Caribbean – The\n"
     ]
    }
   ],
   "source": [
    "# 2 layers and 256 units\n",
    "rand_text=[9,8,9,8,8]\n",
    "start_text=['board game','conan','united states','conquer','the story']\n",
    "\n",
    "for rand,s_text in zip(rand_text,start_text):\n",
    "    gen=text_generator(s_text, rand, generator_model, max_len)\n",
    "    print(gen)"
   ]
  },
  {
   "cell_type": "code",
   "execution_count": 142,
   "metadata": {},
   "outputs": [
    {
     "name": "stdout",
     "output_type": "stream",
     "text": [
      "Board Game Cafe Frenzy 102 The Cities – The Peloponnesian War\n",
      "Conan Epic Empresario The Devil Alien Game – The\n",
      "United States Ultimate Romanian Campaign Game Of Magmaroth – – Signature\n",
      "Conquer The Masquerade – Duel Decks Jace Vs Kiora\n",
      "The Story Of The Rings The Two Towers Of The\n"
     ]
    }
   ],
   "source": [
    "# 2 layers 512 unis\n",
    "rand_text=[9,8,9,8,8]\n",
    "start_text=['board game','conan','united states','conquer','the story']\n",
    "\n",
    "for rand,s_text in zip(rand_text,start_text):\n",
    "    gen=text_generator(s_text, rand, generator_model, max_len)\n",
    "    print(gen)"
   ]
  },
  {
   "cell_type": "code",
   "execution_count": 161,
   "metadata": {},
   "outputs": [
    {
     "name": "stdout",
     "output_type": "stream",
     "text": [
      "Board Game The The The The The The The The The\n",
      "Conan The The The The The The The The\n",
      "United States The The The The The The The The The\n",
      "Conquer The The The The The The The The\n",
      "The Story The The The The The The The The\n"
     ]
    }
   ],
   "source": [
    "# 4 layers 512 unis\n",
    "rand_text=[9,8,9,8,8]\n",
    "start_text=['board game','conan','united states','conquer','the story']\n",
    "\n",
    "for rand,s_text in zip(rand_text,start_text):\n",
    "    gen=text_generator(s_text, rand, generator_model, max_len)\n",
    "    print(gen)"
   ]
  },
  {
   "cell_type": "code",
   "execution_count": 15,
   "metadata": {},
   "outputs": [
    {
     "name": "stdout",
     "output_type": "stream",
     "text": [
      "Board Game The Card Game – The Game Of The Bulge\n",
      "Conan The Game Of The Bulge Dead – 1914\n",
      "United States The Game – The Sorcerers Grenadier Game Justice Bubblegum\n",
      "Conquer The Game Of The Bulge Dead – 1914\n",
      "The Story Of Life The Game Of The Bulge Grenadier\n"
     ]
    }
   ],
   "source": [
    "# 4 layers 128 unis\n",
    "rand_text=[9,8,9,8,8]\n",
    "start_text=['board game','conan','united states','conquer','the story']\n",
    "\n",
    "for rand,s_text in zip(rand_text,start_text):\n",
    "    gen=text_generator(s_text, rand, generator_model, max_len)\n",
    "    print(gen)"
   ]
  },
  {
   "cell_type": "code",
   "execution_count": 31,
   "metadata": {},
   "outputs": [
    {
     "name": "stdout",
     "output_type": "stream",
     "text": [
      "Board Game Cafe Frenzy Card Game – Sharpshooter Vs Bruiser Goblins\n",
      "Conan Battle Of The Asagiri Goddess Mayjune 1940 Edition\n",
      "United States The Board Game – Revised Core Set – 100\n",
      "Conquer The Strongest Explodes The Prison Street Irregulars Game\n",
      "The Story Wars 18051815 Face Watch The Boogeymen – The\n"
     ]
    }
   ],
   "source": [
    "# 2 layers loads of units\n",
    "rand_text=[9,8,9,8,8]\n",
    "start_text=['board game','conan','united states','conquer','the story']\n",
    "\n",
    "for rand,s_text in zip(rand_text,start_text):\n",
    "    gen=text_generator(s_text, rand, generator_model, max_len)\n",
    "    print(gen)"
   ]
  },
  {
   "cell_type": "code",
   "execution_count": 34,
   "metadata": {},
   "outputs": [
    {
     "name": "stderr",
     "output_type": "stream",
     "text": [
      "/tmp/ipykernel_671176/3842047781.py:1: SettingWithCopyWarning:\n",
      "\n",
      "\n",
      "A value is trying to be set on a copy of a slice from a DataFrame.\n",
      "Try using .loc[row_indexer,col_indexer] = value instead\n",
      "\n",
      "See the caveats in the documentation: https://pandas.pydata.org/pandas-docs/stable/user_guide/indexing.html#returning-a-view-versus-a-copy\n",
      "\n"
     ]
    },
    {
     "data": {
      "text/html": [
       "<div>\n",
       "<style scoped>\n",
       "    .dataframe tbody tr th:only-of-type {\n",
       "        vertical-align: middle;\n",
       "    }\n",
       "\n",
       "    .dataframe tbody tr th {\n",
       "        vertical-align: top;\n",
       "    }\n",
       "\n",
       "    .dataframe thead th {\n",
       "        text-align: right;\n",
       "    }\n",
       "</style>\n",
       "<table border=\"1\" class=\"dataframe\">\n",
       "  <thead>\n",
       "    <tr style=\"text-align: right;\">\n",
       "      <th></th>\n",
       "      <th>title_orig</th>\n",
       "      <th>title_gen</th>\n",
       "    </tr>\n",
       "  </thead>\n",
       "  <tbody>\n",
       "    <tr>\n",
       "      <th>78313</th>\n",
       "      <td>King of the Dice</td>\n",
       "      <td>King Of The Caribbean World</td>\n",
       "    </tr>\n",
       "    <tr>\n",
       "      <th>76296</th>\n",
       "      <td>Rambo: The Board Game</td>\n",
       "      <td>Rambo: The Game – The</td>\n",
       "    </tr>\n",
       "  </tbody>\n",
       "</table>\n",
       "</div>"
      ],
      "text/plain": [
       "                  title_orig                    title_gen\n",
       "78313       King of the Dice  King Of The Caribbean World\n",
       "76296  Rambo: The Board Game        Rambo: The Game – The"
      ]
     },
     "metadata": {},
     "output_type": "display_data"
    }
   ],
   "source": [
    "game_titles_test['generated_title']=game_titles_test.name.apply(generate_title)\n",
    "game_titles_test.columns=['title_orig','title_gen']\n",
    "display(game_titles_test.sample(2))"
   ]
  },
  {
   "cell_type": "code",
   "execution_count": 17,
   "metadata": {},
   "outputs": [],
   "source": [
    "game_titles_test[['title_orig','title_gen']].to_csv('evaluation/title_generation_3.CSV')"
   ]
  },
  {
   "cell_type": "code",
   "execution_count": 18,
   "metadata": {},
   "outputs": [],
   "source": [
    "from nltk.translate.bleu_score import sentence_bleu, corpus_bleu\n",
    "from nltk.translate.bleu_score import SmoothingFunction, modified_precision\n",
    "from nltk.translate import bleu\n",
    "def bleu_score_2_titles(og_title, gen_title):\n",
    "    og_title=og_title.split()\n",
    "    gen_title=gen_title.split()\n",
    "    chencherry = SmoothingFunction()\n",
    "    return bleu([gen_title],og_title,smoothing_function=chencherry.method7)"
   ]
  },
  {
   "cell_type": "code",
   "execution_count": 35,
   "metadata": {},
   "outputs": [
    {
     "name": "stderr",
     "output_type": "stream",
     "text": [
      "/tmp/ipykernel_671176/1873943532.py:1: SettingWithCopyWarning:\n",
      "\n",
      "\n",
      "A value is trying to be set on a copy of a slice from a DataFrame.\n",
      "Try using .loc[row_indexer,col_indexer] = value instead\n",
      "\n",
      "See the caveats in the documentation: https://pandas.pydata.org/pandas-docs/stable/user_guide/indexing.html#returning-a-view-versus-a-copy\n",
      "\n"
     ]
    },
    {
     "data": {
      "text/html": [
       "<div>\n",
       "<style scoped>\n",
       "    .dataframe tbody tr th:only-of-type {\n",
       "        vertical-align: middle;\n",
       "    }\n",
       "\n",
       "    .dataframe tbody tr th {\n",
       "        vertical-align: top;\n",
       "    }\n",
       "\n",
       "    .dataframe thead th {\n",
       "        text-align: right;\n",
       "    }\n",
       "</style>\n",
       "<table border=\"1\" class=\"dataframe\">\n",
       "  <thead>\n",
       "    <tr style=\"text-align: right;\">\n",
       "      <th></th>\n",
       "      <th>title_orig</th>\n",
       "      <th>title_gen</th>\n",
       "      <th>bleu_score</th>\n",
       "    </tr>\n",
       "  </thead>\n",
       "  <tbody>\n",
       "    <tr>\n",
       "      <th>61684</th>\n",
       "      <td>Billionaire Banshee</td>\n",
       "      <td>Billionaire The Great</td>\n",
       "      <td>0.101641</td>\n",
       "    </tr>\n",
       "    <tr>\n",
       "      <th>57168</th>\n",
       "      <td>Koi Pond: A Coy Card Game</td>\n",
       "      <td>Koi Dice Masters The Amazing Spiderman Of</td>\n",
       "      <td>0.094240</td>\n",
       "    </tr>\n",
       "  </tbody>\n",
       "</table>\n",
       "</div>"
      ],
      "text/plain": [
       "                      title_orig                                  title_gen  \\\n",
       "61684        Billionaire Banshee                      Billionaire The Great   \n",
       "57168  Koi Pond: A Coy Card Game  Koi Dice Masters The Amazing Spiderman Of   \n",
       "\n",
       "       bleu_score  \n",
       "61684    0.101641  \n",
       "57168    0.094240  "
      ]
     },
     "execution_count": 35,
     "metadata": {},
     "output_type": "execute_result"
    }
   ],
   "source": [
    "game_titles_test['bleu_score']=game_titles_test.apply(lambda x: bleu_score_2_titles(x.title_orig, x.title_gen), axis=1)\n",
    "game_titles_test.sample(2)"
   ]
  },
  {
   "cell_type": "code",
   "execution_count": 36,
   "metadata": {},
   "outputs": [
    {
     "name": "stderr",
     "output_type": "stream",
     "text": [
      "/tmp/ipykernel_671176/2757088950.py:3: SettingWithCopyWarning:\n",
      "\n",
      "\n",
      "A value is trying to be set on a copy of a slice from a DataFrame.\n",
      "Try using .loc[row_indexer,col_indexer] = value instead\n",
      "\n",
      "See the caveats in the documentation: https://pandas.pydata.org/pandas-docs/stable/user_guide/indexing.html#returning-a-view-versus-a-copy\n",
      "\n",
      "WARNING:gensim.models.keyedvectors:sorting after vectors have been allocated is expensive & error-prone\n",
      "WARNING:gensim.models.word2vec:Effective 'alpha' higher than previous training cycles\n",
      "/tmp/ipykernel_671176/2757088950.py:8: SettingWithCopyWarning:\n",
      "\n",
      "\n",
      "A value is trying to be set on a copy of a slice from a DataFrame.\n",
      "Try using .loc[row_indexer,col_indexer] = value instead\n",
      "\n",
      "See the caveats in the documentation: https://pandas.pydata.org/pandas-docs/stable/user_guide/indexing.html#returning-a-view-versus-a-copy\n",
      "\n"
     ]
    },
    {
     "data": {
      "text/html": [
       "<div>\n",
       "<style scoped>\n",
       "    .dataframe tbody tr th:only-of-type {\n",
       "        vertical-align: middle;\n",
       "    }\n",
       "\n",
       "    .dataframe tbody tr th {\n",
       "        vertical-align: top;\n",
       "    }\n",
       "\n",
       "    .dataframe thead th {\n",
       "        text-align: right;\n",
       "    }\n",
       "</style>\n",
       "<table border=\"1\" class=\"dataframe\">\n",
       "  <thead>\n",
       "    <tr style=\"text-align: right;\">\n",
       "      <th></th>\n",
       "      <th>title_orig</th>\n",
       "      <th>title_gen</th>\n",
       "      <th>bleu_score</th>\n",
       "      <th>combined</th>\n",
       "      <th>w2v_similarity_score</th>\n",
       "    </tr>\n",
       "  </thead>\n",
       "  <tbody>\n",
       "    <tr>\n",
       "      <th>80569</th>\n",
       "      <td>EXO: Mankind Reborn</td>\n",
       "      <td>Exo: The Great Bride</td>\n",
       "      <td>0.000000</td>\n",
       "      <td>EXO: Mankind Reborn;Exo: The Great Bride</td>\n",
       "      <td>-0.110000</td>\n",
       "    </tr>\n",
       "    <tr>\n",
       "      <th>62899</th>\n",
       "      <td>Trickerion: Legends of Illusion</td>\n",
       "      <td>Trickerion: The Great Bride The</td>\n",
       "      <td>0.108621</td>\n",
       "      <td>Trickerion: Legends of Illusion;Trickerion: Th...</td>\n",
       "      <td>0.005226</td>\n",
       "    </tr>\n",
       "  </tbody>\n",
       "</table>\n",
       "</div>"
      ],
      "text/plain": [
       "                            title_orig                        title_gen  \\\n",
       "80569              EXO: Mankind Reborn             Exo: The Great Bride   \n",
       "62899  Trickerion: Legends of Illusion  Trickerion: The Great Bride The   \n",
       "\n",
       "       bleu_score                                           combined  \\\n",
       "80569    0.000000           EXO: Mankind Reborn;Exo: The Great Bride   \n",
       "62899    0.108621  Trickerion: Legends of Illusion;Trickerion: Th...   \n",
       "\n",
       "       w2v_similarity_score  \n",
       "80569             -0.110000  \n",
       "62899              0.005226  "
      ]
     },
     "execution_count": 36,
     "metadata": {},
     "output_type": "execute_result"
    }
   ],
   "source": [
    "from gensim.models import Word2Vec\n",
    "import gensim\n",
    "game_titles_test['combined']=game_titles_test['title_orig']+\";\"+game_titles_test['title_gen']\n",
    "sent=[row.split(';') for row in game_titles_test['combined']]\n",
    "w2v_model=Word2Vec(sent, min_count=1,vector_size= 50,workers=3, window =2, sg = 1)\n",
    "w2v_model.build_vocab(sent, progress_per=10)\n",
    "w2v_model.train(sent, total_examples=w2v_model.corpus_count, epochs=30, report_delay=1)\n",
    "game_titles_test['w2v_similarity_score']=game_titles_test.apply(lambda x: w2v_model.wv.similarity(x.title_orig, x.title_gen), axis=1)\n",
    "game_titles_test.sample(2)"
   ]
  },
  {
   "cell_type": "code",
   "execution_count": 21,
   "metadata": {
    "colab": {
     "base_uri": "https://localhost:8080/"
    },
    "id": "rCjubXM1mTuA",
    "outputId": "600cddb1-ef84-4eaa-f3bd-a394c5a228b7"
   },
   "outputs": [
    {
     "name": "stderr",
     "output_type": "stream",
     "text": [
      "2022-10-19 11:15:34.995955: W tensorflow/python/util/util.cc:368] Sets are not currently considered sequences, but this may change in the future, so consider avoiding using them.\n"
     ]
    },
    {
     "name": "stdout",
     "output_type": "stream",
     "text": [
      "INFO:tensorflow:Assets written to: evaluation/generative_model3/assets\n"
     ]
    },
    {
     "name": "stderr",
     "output_type": "stream",
     "text": [
      "WARNING:absl:<keras.layers.recurrent.LSTMCell object at 0x1492504d8610> has the same name 'LSTMCell' as a built-in Keras object. Consider renaming <class 'keras.layers.recurrent.LSTMCell'> to avoid naming conflicts when loading with `tf.keras.models.load_model`. If renaming is not possible, pass the object in the `custom_objects` parameter of the load function.\n",
      "WARNING:absl:<keras.layers.recurrent.LSTMCell object at 0x1492d4ff0790> has the same name 'LSTMCell' as a built-in Keras object. Consider renaming <class 'keras.layers.recurrent.LSTMCell'> to avoid naming conflicts when loading with `tf.keras.models.load_model`. If renaming is not possible, pass the object in the `custom_objects` parameter of the load function.\n",
      "WARNING:absl:<keras.layers.recurrent.LSTMCell object at 0x1492530b2d60> has the same name 'LSTMCell' as a built-in Keras object. Consider renaming <class 'keras.layers.recurrent.LSTMCell'> to avoid naming conflicts when loading with `tf.keras.models.load_model`. If renaming is not possible, pass the object in the `custom_objects` parameter of the load function.\n",
      "WARNING:absl:<keras.layers.recurrent.LSTMCell object at 0x1492504d8580> has the same name 'LSTMCell' as a built-in Keras object. Consider renaming <class 'keras.layers.recurrent.LSTMCell'> to avoid naming conflicts when loading with `tf.keras.models.load_model`. If renaming is not possible, pass the object in the `custom_objects` parameter of the load function.\n"
     ]
    }
   ],
   "source": [
    "# generator_model.save('Models_Assets/generative_model_v4')\n",
    "generator_model.save('evaluation/generative_model3')"
   ]
  },
  {
   "cell_type": "code",
   "execution_count": 157,
   "metadata": {
    "colab": {
     "base_uri": "https://localhost:8080/"
    },
    "id": "Fp2FIGhaRh8A",
    "outputId": "2a461b83-de78-475f-a5b8-f84b8e0c2442"
   },
   "outputs": [],
   "source": [
    "import pickle\n",
    "with open('generative_tokenizer_more_data.pickle', 'wb') as handle:\n",
    "    pickle.dump(tokenizer, handle, protocol=pickle.HIGHEST_PROTOCOL)"
   ]
  },
  {
   "cell_type": "code",
   "execution_count": 37,
   "metadata": {},
   "outputs": [
    {
     "data": {
      "text/html": [
       "<div>\n",
       "<style scoped>\n",
       "    .dataframe tbody tr th:only-of-type {\n",
       "        vertical-align: middle;\n",
       "    }\n",
       "\n",
       "    .dataframe tbody tr th {\n",
       "        vertical-align: top;\n",
       "    }\n",
       "\n",
       "    .dataframe thead th {\n",
       "        text-align: right;\n",
       "    }\n",
       "</style>\n",
       "<table border=\"1\" class=\"dataframe\">\n",
       "  <thead>\n",
       "    <tr style=\"text-align: right;\">\n",
       "      <th></th>\n",
       "      <th>title_orig</th>\n",
       "      <th>title_gen</th>\n",
       "      <th>w2v_similarity_score</th>\n",
       "      <th>bleu_score</th>\n",
       "    </tr>\n",
       "  </thead>\n",
       "  <tbody>\n",
       "    <tr>\n",
       "      <th>95860</th>\n",
       "      <td>Welcome to Sysifus Corp</td>\n",
       "      <td>Welcome To The Future Corregidor</td>\n",
       "      <td>0.398499</td>\n",
       "      <td>0.108621</td>\n",
       "    </tr>\n",
       "    <tr>\n",
       "      <th>103564</th>\n",
       "      <td>ECO: Coral Reef</td>\n",
       "      <td>Eco: The Great Bride</td>\n",
       "      <td>0.376985</td>\n",
       "      <td>0.000000</td>\n",
       "    </tr>\n",
       "    <tr>\n",
       "      <th>74856</th>\n",
       "      <td>Rhino Hero: Super Battle</td>\n",
       "      <td>Rhino First Battles Of The</td>\n",
       "      <td>0.368058</td>\n",
       "      <td>0.108621</td>\n",
       "    </tr>\n",
       "    <tr>\n",
       "      <th>104997</th>\n",
       "      <td>Awimbawé</td>\n",
       "      <td>Awimbawé The</td>\n",
       "      <td>0.329408</td>\n",
       "      <td>0.070798</td>\n",
       "    </tr>\n",
       "    <tr>\n",
       "      <th>88073</th>\n",
       "      <td>Sherlock: Don's Legacy</td>\n",
       "      <td>Sherlock: Holmes Consulting Detective</td>\n",
       "      <td>0.328776</td>\n",
       "      <td>0.111686</td>\n",
       "    </tr>\n",
       "    <tr>\n",
       "      <th>61066</th>\n",
       "      <td>A Fistful of Dinero</td>\n",
       "      <td>A Fistful Of The Scorpion Clan</td>\n",
       "      <td>0.322661</td>\n",
       "      <td>0.156772</td>\n",
       "    </tr>\n",
       "    <tr>\n",
       "      <th>4554</th>\n",
       "      <td>Hilarium</td>\n",
       "      <td>Hilarium The</td>\n",
       "      <td>0.311533</td>\n",
       "      <td>0.070798</td>\n",
       "    </tr>\n",
       "    <tr>\n",
       "      <th>90898</th>\n",
       "      <td>Jekyll vs. Hyde</td>\n",
       "      <td>Jekyll Koro Fussball Gnomes</td>\n",
       "      <td>0.309664</td>\n",
       "      <td>0.111686</td>\n",
       "    </tr>\n",
       "  </tbody>\n",
       "</table>\n",
       "</div>"
      ],
      "text/plain": [
       "                      title_orig                              title_gen  \\\n",
       "95860    Welcome to Sysifus Corp       Welcome To The Future Corregidor   \n",
       "103564           ECO: Coral Reef                   Eco: The Great Bride   \n",
       "74856   Rhino Hero: Super Battle             Rhino First Battles Of The   \n",
       "104997                  Awimbawé                           Awimbawé The   \n",
       "88073     Sherlock: Don's Legacy  Sherlock: Holmes Consulting Detective   \n",
       "61066        A Fistful of Dinero         A Fistful Of The Scorpion Clan   \n",
       "4554                    Hilarium                           Hilarium The   \n",
       "90898            Jekyll vs. Hyde            Jekyll Koro Fussball Gnomes   \n",
       "\n",
       "        w2v_similarity_score  bleu_score  \n",
       "95860               0.398499    0.108621  \n",
       "103564              0.376985    0.000000  \n",
       "74856               0.368058    0.108621  \n",
       "104997              0.329408    0.070798  \n",
       "88073               0.328776    0.111686  \n",
       "61066               0.322661    0.156772  \n",
       "4554                0.311533    0.070798  \n",
       "90898               0.309664    0.111686  "
      ]
     },
     "metadata": {},
     "output_type": "display_data"
    },
    {
     "data": {
      "text/html": [
       "<div>\n",
       "<style scoped>\n",
       "    .dataframe tbody tr th:only-of-type {\n",
       "        vertical-align: middle;\n",
       "    }\n",
       "\n",
       "    .dataframe tbody tr th {\n",
       "        vertical-align: top;\n",
       "    }\n",
       "\n",
       "    .dataframe thead th {\n",
       "        text-align: right;\n",
       "    }\n",
       "</style>\n",
       "<table border=\"1\" class=\"dataframe\">\n",
       "  <thead>\n",
       "    <tr style=\"text-align: right;\">\n",
       "      <th></th>\n",
       "      <th>title_orig</th>\n",
       "      <th>title_gen</th>\n",
       "      <th>bleu_score</th>\n",
       "      <th>w2v_similarity_score</th>\n",
       "    </tr>\n",
       "  </thead>\n",
       "  <tbody>\n",
       "    <tr>\n",
       "      <th>90618</th>\n",
       "      <td>Exit: The Game – The Enchanted Forest</td>\n",
       "      <td>Exit: The Game – The Secret Lab Card</td>\n",
       "      <td>0.605825</td>\n",
       "      <td>-0.089743</td>\n",
       "    </tr>\n",
       "    <tr>\n",
       "      <th>79900</th>\n",
       "      <td>The Red Dragon Inn 7: The Tavern Crew</td>\n",
       "      <td>The Red Dragon Inn 6 Villains War 17541763 Sec...</td>\n",
       "      <td>0.317183</td>\n",
       "      <td>-0.032495</td>\n",
       "    </tr>\n",
       "    <tr>\n",
       "      <th>51768</th>\n",
       "      <td>Smash Up</td>\n",
       "      <td>Smash Up The</td>\n",
       "      <td>0.264385</td>\n",
       "      <td>0.165223</td>\n",
       "    </tr>\n",
       "    <tr>\n",
       "      <th>62596</th>\n",
       "      <td>Camelot: The Court</td>\n",
       "      <td>Camelot: The Card Game</td>\n",
       "      <td>0.229319</td>\n",
       "      <td>-0.172228</td>\n",
       "    </tr>\n",
       "    <tr>\n",
       "      <th>14165</th>\n",
       "      <td>Carcassonne: The Discovery</td>\n",
       "      <td>Carcassonne: The Lord Of</td>\n",
       "      <td>0.229319</td>\n",
       "      <td>0.149227</td>\n",
       "    </tr>\n",
       "    <tr>\n",
       "      <th>69253</th>\n",
       "      <td>Star Wars Trivia Game</td>\n",
       "      <td>Star Wars The Game Of</td>\n",
       "      <td>0.227984</td>\n",
       "      <td>-0.074345</td>\n",
       "    </tr>\n",
       "    <tr>\n",
       "      <th>76296</th>\n",
       "      <td>Rambo: The Board Game</td>\n",
       "      <td>Rambo: The Game – The</td>\n",
       "      <td>0.227984</td>\n",
       "      <td>-0.114067</td>\n",
       "    </tr>\n",
       "    <tr>\n",
       "      <th>70477</th>\n",
       "      <td>The Red Dragon Inn: Battle for Greyport</td>\n",
       "      <td>The Red Dragon Inn 6 Villains War 17541763 Second</td>\n",
       "      <td>0.211067</td>\n",
       "      <td>-0.104003</td>\n",
       "    </tr>\n",
       "  </tbody>\n",
       "</table>\n",
       "</div>"
      ],
      "text/plain": [
       "                                    title_orig  \\\n",
       "90618    Exit: The Game – The Enchanted Forest   \n",
       "79900    The Red Dragon Inn 7: The Tavern Crew   \n",
       "51768                                 Smash Up   \n",
       "62596                       Camelot: The Court   \n",
       "14165               Carcassonne: The Discovery   \n",
       "69253                    Star Wars Trivia Game   \n",
       "76296                    Rambo: The Board Game   \n",
       "70477  The Red Dragon Inn: Battle for Greyport   \n",
       "\n",
       "                                               title_gen  bleu_score  \\\n",
       "90618               Exit: The Game – The Secret Lab Card    0.605825   \n",
       "79900  The Red Dragon Inn 6 Villains War 17541763 Sec...    0.317183   \n",
       "51768                                       Smash Up The    0.264385   \n",
       "62596                             Camelot: The Card Game    0.229319   \n",
       "14165                           Carcassonne: The Lord Of    0.229319   \n",
       "69253                              Star Wars The Game Of    0.227984   \n",
       "76296                              Rambo: The Game – The    0.227984   \n",
       "70477  The Red Dragon Inn 6 Villains War 17541763 Second    0.211067   \n",
       "\n",
       "       w2v_similarity_score  \n",
       "90618             -0.089743  \n",
       "79900             -0.032495  \n",
       "51768              0.165223  \n",
       "62596             -0.172228  \n",
       "14165              0.149227  \n",
       "69253             -0.074345  \n",
       "76296             -0.114067  \n",
       "70477             -0.104003  "
      ]
     },
     "metadata": {},
     "output_type": "display_data"
    }
   ],
   "source": [
    "display(game_titles_test.sort_values(by='w2v_similarity_score',ascending=False)[['title_orig','title_gen','w2v_similarity_score','bleu_score']].head(8))\n",
    "display(game_titles_test.sort_values(by='bleu_score',ascending=False)[['title_orig','title_gen','bleu_score','w2v_similarity_score']].head(8))\n",
    "# game_titles_test[['title_orig','title_gen','bleu_score','w2v_similarity_score']].to_csv('evaluation/generative_model1_metrics.CSV')"
   ]
  },
  {
   "cell_type": "code",
   "execution_count": 97,
   "metadata": {},
   "outputs": [
    {
     "name": "stderr",
     "output_type": "stream",
     "text": [
      "WARNING:gensim.models.keyedvectors:sorting after vectors have been allocated is expensive & error-prone\n",
      "WARNING:gensim.models.word2vec:Effective 'alpha' higher than previous training cycles\n"
     ]
    },
    {
     "data": {
      "text/html": [
       "<div>\n",
       "<style scoped>\n",
       "    .dataframe tbody tr th:only-of-type {\n",
       "        vertical-align: middle;\n",
       "    }\n",
       "\n",
       "    .dataframe tbody tr th {\n",
       "        vertical-align: top;\n",
       "    }\n",
       "\n",
       "    .dataframe thead th {\n",
       "        text-align: right;\n",
       "    }\n",
       "</style>\n",
       "<table border=\"1\" class=\"dataframe\">\n",
       "  <thead>\n",
       "    <tr style=\"text-align: right;\">\n",
       "      <th></th>\n",
       "      <th>Unnamed: 0</th>\n",
       "      <th>title_orig</th>\n",
       "      <th>title_gen</th>\n",
       "      <th>bleu_score</th>\n",
       "      <th>w2v_similarity_score</th>\n",
       "      <th>combined</th>\n",
       "    </tr>\n",
       "  </thead>\n",
       "  <tbody>\n",
       "    <tr>\n",
       "      <th>1267</th>\n",
       "      <td>79034</td>\n",
       "      <td>Bear Went Over the Mountain</td>\n",
       "      <td>Bear War The Card Game – The Board</td>\n",
       "      <td>0.066488</td>\n",
       "      <td>0.146236</td>\n",
       "      <td>Bear Went Over the Mountain;Bear War The Card ...</td>\n",
       "    </tr>\n",
       "    <tr>\n",
       "      <th>1371</th>\n",
       "      <td>54034</td>\n",
       "      <td>HomeStretch</td>\n",
       "      <td>Homestretch It The Game</td>\n",
       "      <td>0.000000</td>\n",
       "      <td>-0.055203</td>\n",
       "      <td>HomeStretch;Homestretch It The Game</td>\n",
       "    </tr>\n",
       "  </tbody>\n",
       "</table>\n",
       "</div>"
      ],
      "text/plain": [
       "      Unnamed: 0                   title_orig  \\\n",
       "1267       79034  Bear Went Over the Mountain   \n",
       "1371       54034                  HomeStretch   \n",
       "\n",
       "                               title_gen  bleu_score  w2v_similarity_score  \\\n",
       "1267  Bear War The Card Game – The Board    0.066488              0.146236   \n",
       "1371             Homestretch It The Game    0.000000             -0.055203   \n",
       "\n",
       "                                               combined  \n",
       "1267  Bear Went Over the Mountain;Bear War The Card ...  \n",
       "1371                HomeStretch;Homestretch It The Game  "
      ]
     },
     "execution_count": 97,
     "metadata": {},
     "output_type": "execute_result"
    }
   ],
   "source": [
    "# df=pd.read_csv(r'evaluation/title_generation_3.CSV')\n",
    "df=pd.read_csv(r'Generator_Outputs/CSV_Outputs/title_generation_metrics_v4.CSV')\n",
    "game_titles_test=df\n",
    "from gensim.models import Word2Vec\n",
    "import gensim\n",
    "game_titles_test['combined']=game_titles_test['title_orig']+\";\"+game_titles_test['title_gen']\n",
    "sent=[row.split(';') for row in game_titles_test['combined']]\n",
    "w2v_model=Word2Vec(sent, min_count=1,vector_size= 50,workers=3, window =2, sg = 1)\n",
    "w2v_model.build_vocab(sent, progress_per=10)\n",
    "w2v_model.train(sent, total_examples=w2v_model.corpus_count, epochs=30, report_delay=1)\n",
    "game_titles_test['w2v_similarity_score']=game_titles_test.apply(lambda x: w2v_model.wv.similarity(x.title_orig, x.title_gen), axis=1)\n",
    "game_titles_test['bleu_score']=game_titles_test.apply(lambda x: bleu_score_2_titles(x.title_orig, x.title_gen), axis=1)\n",
    "game_titles_test.sample(2)"
   ]
  }
 ],
 "metadata": {
  "colab": {
   "collapsed_sections": [],
   "machine_shape": "hm",
   "provenance": []
  },
  "gpuClass": "standard",
  "kernelspec": {
   "display_name": "Python 3.8.5 ('base')",
   "language": "python",
   "name": "python3"
  },
  "language_info": {
   "codemirror_mode": {
    "name": "ipython",
    "version": 3
   },
   "file_extension": ".py",
   "mimetype": "text/x-python",
   "name": "python",
   "nbconvert_exporter": "python",
   "pygments_lexer": "ipython3",
   "version": "3.8.5"
  },
  "vscode": {
   "interpreter": {
    "hash": "49cb93f377a7abe7414b7b0f21fb3017538004a126cf690fb524202736b7fb92"
   }
  }
 },
 "nbformat": 4,
 "nbformat_minor": 1
}
